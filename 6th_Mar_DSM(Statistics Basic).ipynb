{
 "cells": [
  {
   "cell_type": "markdown",
   "id": "5b370552",
   "metadata": {},
   "source": [
    "### Ques.1 - What is Statistics?"
   ]
  },
  {
   "cell_type": "markdown",
   "id": "7e7e53bc",
   "metadata": {},
   "source": [
    "- Statistics is a branch of mathematics that deals with collecting, analyzing, interpreting, and presenting data.\n",
    "- It involves methods for summarizing and describing data, making inferences and predictions based on data, and testing hypotheses. \n",
    "- The goal of statistics is to use data to gain insights and understanding about a population or a process, and to make informed decisions based on that understanding."
   ]
  },
  {
   "cell_type": "markdown",
   "id": "684048a6",
   "metadata": {},
   "source": [
    "### Ques.2 - Define the different types of statistics and give an example of when each type might be used."
   ]
  },
  {
   "cell_type": "markdown",
   "id": "459f34d7",
   "metadata": {},
   "source": [
    "- There are two main types of statistics:\n",
    "\n",
    "    **1**. Descriptive statistics  \n",
    "    **2**. Inferential statistics.\n",
    "\n",
    "\n",
    "**Descriptive statistics :**\n",
    "- It is concerned with summarizing and describing the characteristics of a dataset, without making any inferences beyond           the data. \n",
    "- Some common measures of descriptive statistics include mean, median, mode, range, variance, and standard deviation.\n",
    "  - For example, descriptive statistics might be used to summarize the average income of a group of people or                       the frequency of different responses on a survey.\n",
    "\n",
    "**Inferential statistics :**\n",
    "- It involves using data to make inferences or draw conclusions about a larger population beyond the dataset being analyzed. \n",
    "- This is done through statistical hypothesis testing, where a sample is taken from a population and used to test a hypothesis about the population as a whole.\n",
    " - For example, inferential statistics might be used to determine whether a new drug is effective for a larger population based on a sample of patients who have taken the drug in a clinical trial.\n",
    " \n",
    " \n",
    " \n",
    "**Note :** *In summary, Descriptive statistics is used to describe a dataset while Inferential statistics is used to make inferences about a larger population based on a sample.*"
   ]
  },
  {
   "cell_type": "markdown",
   "id": "168fe3da",
   "metadata": {},
   "source": [
    "### Ques.3 - What are the different types of data and how do they differ from each other? Provide an example of each type of data."
   ]
  },
  {
   "cell_type": "markdown",
   "id": "6077404b",
   "metadata": {},
   "source": [
    "- There are 2 main types of data :\n",
    "\n",
    "    **1.** Quantitative\n",
    "    **2.** Qualitative\n",
    "\n",
    "**Quantitative Data :**\n",
    "- It refers to numerical data that can be measured and expressed in terms of numbers or quantities.\n",
    "  - Examples of quantitative data include height, weight, age, and test scores.\n",
    "  \n",
    "**Qualitative Data :** \n",
    "- On the other hand,it refers to non-numerical data that is descriptive in nature and cannot be expressed in terms of numbers or quantities.\n",
    "  - Examples of qualitative data include color, taste, texture, and opinions.\n",
    "  \n",
    "***Note:*** *In summary, Quantitative Data is numerical and can be measured while Qualitative Data is descriptive and non-numerical.*"
   ]
  },
  {
   "cell_type": "markdown",
   "id": "e2ccca8e",
   "metadata": {},
   "source": [
    "### Ques.4 - Categorise the following datasets with respect to quantitative and qualitative data types:\n",
    "### (i) Grading in exam: A+, A, B+, B, C+, C, D, E\n",
    "### (ii) Colour of mangoes: yellow, green, orange, red\n",
    "### (iii) Height data of a class: [178.9, 179, 179.5, 176, 177.2, 178.3, 175.8,...]\n",
    "### (iv) Number of mangoes exported by a farm: [500, 600, 478, 672, ...]"
   ]
  },
  {
   "cell_type": "markdown",
   "id": "c4602058",
   "metadata": {},
   "source": [
    "- (i) Grading in exam: A+, A, B+, B, C+, C, D, E : **Qualitative Data**\n",
    "- (ii) Colour of mangoes: yellow, green, orange, red : **Qualitative Data**\n",
    "- (iii) Height data of a class: [178.9, 179, 179.5, 176, 177.2, 178.3, 175.8,...] : **Quantitative Data**\n",
    "- (iv) Number of mangoes exported by a farm: [500, 600, 478, 672, ...]  : **Quantitative Data**"
   ]
  },
  {
   "cell_type": "markdown",
   "id": "880f7c2c",
   "metadata": {},
   "source": [
    "### Ques.5 - Explain the concept of levels of measurement and give an example of a variable for each level."
   ]
  },
  {
   "cell_type": "markdown",
   "id": "9bd37eed",
   "metadata": {},
   "source": [
    "Levels of measurement refer to the way variables are categorized or measured. The four levels of measurement are nominal, ordinal, interval, and ratio.\n",
    "\n",
    "1. **Nominal level**: This level of measurement is used to categorize variables based on their names or labels. \n",
    "    The variables at this level have no numerical value and are not ordered. \n",
    "    Examples of nominal variables include gender, race,and religion.\n",
    "\n",
    "\n",
    "2. **Ordinal level**: This level of measurement categorizes variables into ordered categories that have no equal distance between them. The variables at this level can be ranked but not measured in terms of magnitude. Examples of ordinal variables include education level (e.g., elementary, high school, college), socioeconomic status (e.g., low, middle, high), and job level (e.g., entry-level, mid-level, senior).\n",
    "\n",
    "\n",
    "3. **Interval level**: This level of measurement categorizes variables that have equal distance between them but no true zero point. The variables at this level can be ranked and measured in terms of magnitude. Examples of interval variables include temperature in Celsius or Fahrenheit, IQ scores, and years.\n",
    "\n",
    "\n",
    "4. **Ratio level**: This level of measurement categorizes variables that have equal distance between them and a true zero point. The variables at this level can be ranked, measured in terms of magnitude, and have meaningful ratios. Examples of ratio variables include weight, height, income, and age in years.\n",
    "\n",
    "\n",
    "*In summary* :\n",
    "\n",
    "- Nominal level: Gender (male/female), Race (White/Black/Asian), Religion (Christian/Muslim/Jewish)\n",
    "- Ordinal level: Education level (elementary/high school/college), Socioeconomic status (low/middle/high), Job level (entry-level/mid-level/senior)\n",
    "- Interval level: Temperature (in Celsius or Fahrenheit), IQ score, Years (year 2000, year 2020)\n",
    "- Ratio level: Weight (in pounds), Height (in feet), Income (in dollars), Age (in years)"
   ]
  },
  {
   "cell_type": "markdown",
   "id": "73d73fdd",
   "metadata": {},
   "source": [
    "### Ques.6 - Why is it important to understand the level of measurement when analyzing data? Provide an example to illustrate your answer."
   ]
  },
  {
   "cell_type": "markdown",
   "id": "2ea53193",
   "metadata": {},
   "source": [
    "- Understanding the level of measurement of variables is crucial when analyzing data because it determines the types of statistical analyses that can be performed and the appropriate measures of central tendency and variability that should be used.\n",
    "\n",
    "   - For example, imagine you are conducting a study to analyze the effects of different types of exercise on weight loss in a group of participants. You collect data on the participants' gender, type of exercise (cardio, strength training, or both), duration of exercise per week, and weight loss in pounds after 8 weeks.\n",
    "\n",
    "   -   If you were to treat gender as an interval variable and calculate the mean, it would not make sense because gender is a nominal variable with no numerical value. Likewise, if you were to treat the type of exercise as a ratio variable and calculate the mean, it would not make sense because there is no true zero point for the variable.\n",
    "\n",
    "- Understanding the level of measurement allows you to choose the appropriate statistical analysis and measures of central tendency and variability. For example, you would use chi-square test to analyze the relationship between gender and exercise type, and ANOVA to analyze the differences in weight loss between different types of exercise. You would also use appropriate measures of central tendency, such as mode or median, for nominal and ordinal variables, and mean and standard deviation for interval and ratio variables."
   ]
  },
  {
   "cell_type": "markdown",
   "id": "6939e28f",
   "metadata": {},
   "source": [
    "### Ques.7 - How nominal data type is different from ordinal data type."
   ]
  },
  {
   "cell_type": "markdown",
   "id": "f2e8dc51",
   "metadata": {},
   "source": [
    "- Nominal data and ordinal data are both types of categorical data, which means they represent groups or categories rather than numerical values. The difference between them is that nominal data does not have any inherent order or ranking among the categories, while ordinal data does.\n",
    "\n",
    "- To understand this difference, consider an example of nominal data: colors of cars. If you were to survey people about the colors of their cars, the categories would be the different colors (red, blue, green, etc.). These categories do not have an inherent order or ranking. For example, there is no sense in which red is \"higher\" or \"better\" than blue or green.\n",
    "\n",
    "- Now consider an example of ordinal data: levels of education. The categories here might be \"high school,\" \"college,\" and \"graduate.\" These categories can be ranked in terms of the amount of education they represent, with \"graduate\" being higher than \"college,\" and \"college\" being higher than \"high school.\"\n",
    "\n",
    "*In summary, nominal data has categories that cannot be ranked or ordered in any meaningful way, while ordinal data has categories that can be ranked based on some inherent characteristic or attribute.*"
   ]
  },
  {
   "cell_type": "markdown",
   "id": "81b04578",
   "metadata": {},
   "source": [
    "### Ques.8 - Which type of plot can be used to display data in terms of range?"
   ]
  },
  {
   "cell_type": "markdown",
   "id": "c6d85966",
   "metadata": {},
   "source": [
    "- A box plot is a type of plot that can be used to display data in terms of range.\n",
    "- It shows the median, upper and lower quartiles, and minimum and maximum values of a set of data.\n",
    "- The box represents the middle 50% of the data (the interquartile range).\n",
    "- The whiskers extend from the box to the minimum and maximum values.\n",
    "- Box plots are useful for displaying data in terms of range because they show the spread of the data and identify any outliers.\n",
    "- They are commonly used in data analysis and statistics, particularly in fields such as finance, biology, and psychology."
   ]
  },
  {
   "cell_type": "markdown",
   "id": "258d29af",
   "metadata": {},
   "source": [
    "### Ques.9 - Describe the difference between descriptive and inferential statistics. Give an example of each type of statistics and explain how they are used."
   ]
  },
  {
   "cell_type": "markdown",
   "id": "9b95b87b",
   "metadata": {},
   "source": [
    "**Descriptive Statistics:**\n",
    "\n",
    "  - Descriptive statistics is the branch of statistics that deals with summarizing and describing the characteristics of a set of data.\n",
    "  - It is used to describe and summarize the main features of the data, such as its central tendency, dispersion, and shape.\n",
    "  - Descriptive statistics can be used to calculate measures such as the mean, median, mode, standard deviation, and range of a dataset.\n",
    "  - An example of descriptive statistics is calculating the mean and standard deviation of the heights of students in a class. This information can be used to describe the central tendency and variability of the data, and can be useful for making comparisons between different groups of students.\n",
    "  \n",
    "**Inferential Statistics:**\n",
    "\n",
    "  - Inferential statistics is the branch of statistics that deals with drawing conclusions and making predictions about a population based on a sample of data.\n",
    "  - It is used to make inferences and predictions about a population based on a sample, using probability theory and statistical inference.\n",
    "  - Inferential statistics can be used to test hypotheses, estimate parameters, and make predictions about a population based on a sample of data.\n",
    "  - An example of inferential statistics is conducting a hypothesis test to determine whether the mean height of students in a class is significantly different from the mean height of students in another class. This information can be used to make inferences and predictions about the population of students as a whole, based on the sample of data collected.\n",
    "  \n",
    "  \n",
    "*In summary, descriptive statistics is used to summarize and describe the characteristics of a dataset, while inferential statistics is used to draw conclusions and make predictions about a population based on a sample of data.*\n",
    "\n",
    "\n",
    "\n",
    "\n"
   ]
  },
  {
   "cell_type": "markdown",
   "id": "a7224383",
   "metadata": {},
   "source": [
    "### Ques.10 - What are some common measures of central tendency and variability used in statistics? Explain how each measure can be used to describe a dataset."
   ]
  },
  {
   "cell_type": "markdown",
   "id": "c0bd44cb",
   "metadata": {},
   "source": [
    "**Measures of Central Tendency:**\n",
    "\n",
    "  - Mean, median, and mode are measures of central tendency.\n",
    "  - They are used to describe where the center of the data lies.\n",
    "  - Mean is good for normally distributed data, median is good for skewed data, and mode is good for data with distinct peaks.\n",
    "  - Mean is calculated by adding all values and dividing by the number of values, median is the middle value in the dataset, and mode is the most common value.\n",
    "  \n",
    "**Measures of Variability:**\n",
    "\n",
    "  - Range, variance, and standard deviation are measures of variability.\n",
    "  - They are used to describe how spread out the data is.\n",
    "  - Range is the difference between the minimum and maximum values, while variance and standard deviation take into account how far each value is from the mean.\n",
    "  - Variance is the average of the squared differences between each value and the mean, and standard deviation is the square root of the variance."
   ]
  }
 ],
 "metadata": {
  "kernelspec": {
   "display_name": "Python 3 (ipykernel)",
   "language": "python",
   "name": "python3"
  },
  "language_info": {
   "codemirror_mode": {
    "name": "ipython",
    "version": 3
   },
   "file_extension": ".py",
   "mimetype": "text/x-python",
   "name": "python",
   "nbconvert_exporter": "python",
   "pygments_lexer": "ipython3",
   "version": "3.9.7"
  }
 },
 "nbformat": 4,
 "nbformat_minor": 5
}
