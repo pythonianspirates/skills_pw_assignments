{
 "cells": [
  {
   "cell_type": "markdown",
   "id": "9a85fa4e",
   "metadata": {},
   "source": [
    "#### Ques.1 - Explain with an example each when to use a for loop and a while loop."
   ]
  },
  {
   "cell_type": "code",
   "execution_count": 2,
   "id": "96c896f8",
   "metadata": {
    "collapsed": true
   },
   "outputs": [
    {
     "name": "stdout",
     "output_type": "stream",
     "text": [
      "0\n",
      "1\n",
      "2\n",
      "3\n",
      "4\n",
      "5\n",
      "6\n",
      "7\n",
      "8\n",
      "9\n",
      "0\n",
      "1\n",
      "2\n",
      "3\n",
      "4\n",
      "5\n",
      "6\n",
      "7\n",
      "8\n",
      "9\n"
     ]
    }
   ],
   "source": [
    "# A for loop is used when you want to repeat a set of statements a specific number of times. Here's an example:\n",
    "\n",
    "for i in range(10):\n",
    "    print(i)\n",
    "\n",
    "'''This for loop will repeat the statement print(i) 10 times, from 0 to 9. The range(10) function generates a sequence of numbers from 0 to 9, and the for loop will iterate through each number in the sequence and execute the block of code.\n",
    "\n",
    "A while loop is used when you want to repeat a set of statements an unknown number of times, until a certain condition is met. Here's an example:'''\n",
    "\n",
    "i = 0\n",
    "while i < 10:\n",
    "    print(i)\n",
    "    i += 1\n",
    "\n",
    "# This while loop will repeat the statements print(i) and i += 1 until i is no longer less than 10. The loop will start by evaluating the condition i < 10, and if it's true, it will execute the block of code. The i += 1 statement increases the value of i by 1 each time the loop is executed, so eventually i will become 10, the condition will be false, and the loop will stop."
   ]
  },
  {
   "cell_type": "markdown",
   "id": "d384ce7d",
   "metadata": {},
   "source": [
    "#### Ques.2 - Write a python program to print the sum and product of the first 10 natural numbers using for and while loop."
   ]
  },
  {
   "cell_type": "code",
   "execution_count": 10,
   "id": "eef055cc",
   "metadata": {},
   "outputs": [
    {
     "name": "stdout",
     "output_type": "stream",
     "text": [
      "Enter the value of n : 10\n",
      "55\n",
      "3628800\n"
     ]
    }
   ],
   "source": [
    "n=int(input(\"Enter the value of n : \"))\n",
    "sum=0\n",
    "prod=1\n",
    "count=1\n",
    "while count<=n:\n",
    "    sum+=count\n",
    "    prod=prod*count\n",
    "    count+=1\n",
    "print(sum)\n",
    "print(prod)\n"
   ]
  },
  {
   "cell_type": "code",
   "execution_count": 9,
   "id": "4334282f",
   "metadata": {},
   "outputs": [
    {
     "name": "stdout",
     "output_type": "stream",
     "text": [
      "Enter the value of n : 10\n",
      "55\n",
      "3628800\n"
     ]
    }
   ],
   "source": [
    "n=int(input(\"Enter the value of n : \"))\n",
    "sum=0\n",
    "prod=1\n",
    "for i in range (1,n+1):\n",
    "    sum+=i\n",
    "    prod*=i\n",
    "print(sum)\n",
    "print(prod)\n"
   ]
  },
  {
   "cell_type": "markdown",
   "id": "fbbc62bc",
   "metadata": {},
   "source": [
    "#### Ques.3- Create a python program to compute the electricity bill for  a household. \n",
    "#### The per-unit charges in rupees are as follows: For the first 100 units, the user will be charged Rs. 4.5 per unit, for the next 100 units, the user will be charged Rs. 6 per unit, and for the next 100 units, the user will be charged Rs. 10 per unit, After 300 units and above the user will be charged Rs. 20 per unit.\n",
    "#### You are required to take the units of electricity consumed in a month from the user as input.\n",
    "#### Your program must pass this test case: when the unit of electricity consumed by the user in a month is 310, the total electricity bill should be 2250.\n"
   ]
  },
  {
   "cell_type": "code",
   "execution_count": 25,
   "id": "754eaf84",
   "metadata": {},
   "outputs": [
    {
     "name": "stdout",
     "output_type": "stream",
     "text": [
      "Enter total units : 310\n",
      "The total cost of the electricity : 2250\n"
     ]
    }
   ],
   "source": [
    "no_of_units=int(input(\"Enter total units : \"))\n",
    "total_ebill=0\n",
    "if no_of_units <=100 :\n",
    "    total_ebill+=4.5*no_of_units\n",
    "    no_of_units-=100\n",
    "if no_of_units>100 and no_of_units<=200:\n",
    "    total_ebill+=450\n",
    "    no_of_units-=100\n",
    "    total_ebill+=6*no_of_units\n",
    "if no_of_units>200 and no_of_units<=300:\n",
    "    total_ebill+=450+600\n",
    "    no_of_units-=200\n",
    "    total_ebill+=10*no_of_units\n",
    "if no_of_units>300:\n",
    "    total_ebill+=450+600+1000\n",
    "    no_of_units-=300\n",
    "    total_ebill+=20*no_of_units\n",
    "print(\"The total cost of the electricity :\",total_ebill)"
   ]
  },
  {
   "cell_type": "markdown",
   "id": "ab7fb96e",
   "metadata": {},
   "source": [
    "#### Ques.4 -Create a list of numbers from 1 to 100. Use for loop and while loop to calculate cube of each number and if the cube of that number is divisible by 4 or 5 then append that number in a list and print that list."
   ]
  },
  {
   "cell_type": "code",
   "execution_count": 8,
   "id": "a1365660",
   "metadata": {},
   "outputs": [
    {
     "name": "stdout",
     "output_type": "stream",
     "text": [
      "Using for Loop\n",
      "[2, 4, 5, 6, 8, 10, 12, 14, 15, 16, 18, 20, 22, 24, 25, 26, 28, 30, 32, 34, 35, 36, 38, 40, 42, 44, 45, 46, 48, 50, 52, 54, 55, 56, 58, 60, 62, 64, 65, 66, 68, 70, 72, 74, 75, 76, 78, 80, 82, 84, 85, 86, 88, 90, 92, 94, 95, 96, 98, 100]\n",
      "Using While Loop\n",
      "[2, 4, 5, 6, 8, 10, 12, 14, 15, 16, 18, 20, 22, 24, 25, 26, 28, 30, 32, 34, 35, 36, 38, 40, 42, 44, 45, 46, 48, 50, 52, 54, 55, 56, 58, 60, 62, 64, 65, 66, 68, 70, 72, 74, 75, 76, 78, 80, 82, 84, 85, 86, 88, 90, 92, 94, 95, 96, 98, 100]\n"
     ]
    }
   ],
   "source": [
    "l=list(range(1,101))\n",
    "lf=[]\n",
    "for i in l:\n",
    "    if i**3%4==0 or i**3%5==0:\n",
    "        lf.append(i)\n",
    "print(\"Using for Loop\")\n",
    "print(lf)\n",
    "\n",
    "lw=[]\n",
    "count=1\n",
    "while count<=len(l):\n",
    "    r=count**3\n",
    "    if r%4==0 or r%5==0:\n",
    "        lw.append(count)\n",
    "    count+=1\n",
    "print(\"Using While Loop\")\n",
    "print(lw)\n"
   ]
  },
  {
   "cell_type": "markdown",
   "id": "ad93a3ff",
   "metadata": {},
   "source": [
    "#### Ques.5 -Write a program to filter count vowels in the below-given string. string = \"I want to become a data scientist\"."
   ]
  },
  {
   "cell_type": "code",
   "execution_count": 14,
   "id": "5724c20a",
   "metadata": {},
   "outputs": [
    {
     "name": "stdout",
     "output_type": "stream",
     "text": [
      "No.of Vowels present = 12\n",
      "Vowels present in the string are : ['I', 'a', 'a', 'a', 'a', 'e', 'e', 'e', 'i', 'i', 'o', 'o']\n"
     ]
    }
   ],
   "source": [
    "string = \"I want to become a data scientist\"\n",
    "count=0\n",
    "new_s=[]\n",
    "for i in string:\n",
    "    if (i=='a'or i=='e'or i=='i'or i=='o'or i=='u'or i=='A'or i=='E'or i=='I'or i=='O'or i=='U') :\n",
    "        new_s.append(i)\n",
    "        count+=1\n",
    "new_s.sort()\n",
    "print(f'No.of Vowels present = {count}')\n",
    "print(f'Vowels present in the string are : {new_s}')\n",
    "        "
   ]
  }
 ],
 "metadata": {
  "kernelspec": {
   "display_name": "Python 3 (ipykernel)",
   "language": "python",
   "name": "python3"
  },
  "language_info": {
   "codemirror_mode": {
    "name": "ipython",
    "version": 3
   },
   "file_extension": ".py",
   "mimetype": "text/x-python",
   "name": "python",
   "nbconvert_exporter": "python",
   "pygments_lexer": "ipython3",
   "version": "3.9.7"
  }
 },
 "nbformat": 4,
 "nbformat_minor": 5
}
