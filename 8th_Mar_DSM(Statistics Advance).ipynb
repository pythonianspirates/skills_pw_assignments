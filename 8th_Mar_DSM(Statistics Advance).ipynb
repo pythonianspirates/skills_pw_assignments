{
 "cells": [
  {
   "cell_type": "markdown",
   "id": "bde6f689",
   "metadata": {},
   "source": [
    "### Ques.1 - What is the Probability density function?"
   ]
  },
  {
   "cell_type": "markdown",
   "id": "4bd59f84",
   "metadata": {},
   "source": [
    "The Probability Density Function (PDF) is a mathematical function that describes the probability distribution of a continuous random variable. Here's a brief explanation:\n",
    "\n",
    "- The PDF represents the relative likelihood of a continuous random variable taking on different values within a given range.\n",
    "- It is often denoted as f(x), where x represents the value of the random variable.\n",
    "- The PDF does not directly give the probability of a specific value but provides a probability density for each possible value.\n",
    "- The area under the PDF curve over a certain interval corresponds to the probability of the random variable falling within that interval.\n",
    "- The PDF must satisfy certain conditions, such as being non-negative and integrating to 1 over the entire range of the random variable.\n",
    "\n",
    "Example: The PDF of a standard normal distribution (bell-shaped curve) is given by the equation f(x) = (1 / √(2π)) * e^(-x^2/2), where e is the base of the natural logarithm. This PDF describes the probability distribution of a continuous random variable with a mean of 0 and a standard deviation of 1.\n",
    "\n",
    "In summary, the Probability Density Function (PDF) describes the probability distribution of a continuous random variable by assigning a density value to each possible value. It is a fundamental concept in probability theory and statistics for understanding and analyzing continuous random variables."
   ]
  },
  {
   "cell_type": "markdown",
   "id": "d1dbc60f",
   "metadata": {},
   "source": [
    "### Ques.2 - What are the types of Probability distribution?"
   ]
  },
  {
   "cell_type": "markdown",
   "id": "815a2bfa",
   "metadata": {},
   "source": [
    "There are several types of probability distributions. Here's a brief explanation of some commonly encountered ones:\n",
    "\n",
    "1.Normal Distribution:\n",
    "- Also known as the Gaussian distribution or bell curve.\n",
    "- It is symmetric and characterized by its mean and standard deviation.\n",
    "- Many natural phenomena follow a normal distribution.\n",
    "2.Uniform Distribution:\n",
    "- All values within a specified range have equal probability.\n",
    "- The probability density is constant over the entire range.\n",
    "3.Binomial Distribution:\n",
    "- Models the number of successes in a fixed number of independent Bernoulli trials.\n",
    "- It is characterized by the number of trials and the probability of success.\n",
    "4.Poisson Distribution:\n",
    "- Models the number of events that occur within a fixed interval of time or space.\n",
    "- It is often used for rare events or occurrences.\n",
    "5.Exponential Distribution:\n",
    "- Models the time between events in a Poisson process.\n",
    "- Commonly used in reliability analysis and queuing theory.\n",
    "6.Chi-Square Distribution:\n",
    "- Arises in the context of hypothesis testing and is used to test the independence of variables or goodness of fit.\n",
    "7.Student's t-Distribution:\n",
    "- Used for statistical inference when the sample size is small and the population variance is unknown.\n",
    "- Widely used in hypothesis testing and confidence interval estimation.\n",
    "\n",
    "These are just a few examples of probability distributions commonly used in statistics and probability theory. Each distribution has its own properties and applications, making them useful for analyzing different types of data and phenomena.\n",
    "\n",
    "\n",
    "\n",
    "\n"
   ]
  },
  {
   "cell_type": "markdown",
   "id": "e9a91bce",
   "metadata": {},
   "source": [
    "### Ques.3 - Write a Python function to calculate the probability density function of a normal distribution with given mean and standard deviation at a given point."
   ]
  },
  {
   "cell_type": "code",
   "execution_count": 4,
   "id": "9bd5d9c5",
   "metadata": {},
   "outputs": [
    {
     "name": "stdout",
     "output_type": "stream",
     "text": [
      "The PDF at x is :  0.01752830049356854\n"
     ]
    }
   ],
   "source": [
    "import math\n",
    "\n",
    "def normal_pdf(x, mean, std_dev):\n",
    "    coefficient = 1 / (std_dev * math.sqrt(2 * math.pi))\n",
    "    exponent = -((x - mean)**2) / (2 * std_dev**2)\n",
    "    pdf = coefficient * math.exp(exponent)\n",
    "    return pdf\n",
    "\n",
    "pdf_value = normal_pdf(2.5,0,1)\n",
    "print(\"The PDF at x is : \",pdf_value)"
   ]
  },
  {
   "cell_type": "markdown",
   "id": "d316265d",
   "metadata": {},
   "source": [
    "### Ques.4 - What are the properties of Binomial distribution? Give two examples of events where binomial distribution can be applied."
   ]
  },
  {
   "cell_type": "markdown",
   "id": "75b603de",
   "metadata": {},
   "source": [
    "The properties of the binomial distribution are as follows:\n",
    "\n",
    "- Fixed number of trials: The binomial distribution represents the number of successes in a fixed number of independent trials.\n",
    "- Independent trials: Each trial must be independent, meaning the outcome of one trial does not affect the outcomes of other trials.\n",
    "- Two possible outcomes: Each trial has only two possible outcomes, typically referred to as success and failure.\n",
    "- Constant probability of success: The probability of success remains the same for each trial.\n",
    "- Discrete distribution: The binomial distribution is a discrete probability distribution, meaning it deals with whole number values.\n",
    "\n",
    "Examples of events where the binomial distribution can be applied are:\n",
    "\n",
    "1.Coin Flips: The outcome of flipping a fair coin can be modeled using a binomial distribution. Each flip is an independent trial with two possible outcomes: heads (success) or tails (failure).\n",
    "\n",
    "2.Survey Responses: When conducting a survey with yes/no or multiple-choice questions, the binomial distribution can be used to model the number of responses that fall into a specific category. Each response is treated as an independent trial, and the outcome can be categorized as a success or failure based on the criteria defined for each category.\n",
    "\n",
    "In summary, the binomial distribution is characterized by a fixed number of trials, independent events, two possible outcomes, a constant probability of success, and is often applied to scenarios such as coin flips or survey responses.\n",
    "\n",
    "\n",
    "\n",
    "\n"
   ]
  },
  {
   "cell_type": "markdown",
   "id": "a538d795",
   "metadata": {},
   "source": [
    "### Ques.5 - Generate a random sample of size 1000 from a binomial distribution with probability of success 0.4 and plot a histogram of the results using matplotlib."
   ]
  },
  {
   "cell_type": "code",
   "execution_count": 23,
   "id": "5d6f4828",
   "metadata": {},
   "outputs": [
    {
     "data": {
      "text/plain": [
       "Text(0.5, 1.0, 'Binomial Distribution')"
      ]
     },
     "execution_count": 23,
     "metadata": {},
     "output_type": "execute_result"
    },
    {
     "data": {
      "image/png": "[encoded data removed]",
      "text/plain": [
       "<Figure size 432x288 with 1 Axes>"
      ]
     },
     "metadata": {
      "needs_background": "light"
     },
     "output_type": "display_data"
    }
   ],
   "source": [
    "import numpy as np\n",
    "import matplotlib.pyplot as plt\n",
    "\n",
    "n = 1000         # sample size \n",
    "p = 0.4          # probability of success\n",
    "\n",
    "sample = np.random.binomial(n,p,size=1000)\n",
    "\n",
    "plt.hist(sample,bins=20,color='navy',edgecolor='yellow')\n",
    "\n",
    "plt.xlabel('Number of successes')\n",
    "plt.ylabel('Frequency')\n",
    "plt.title('Binomial Distribution')"
   ]
  },
  {
   "cell_type": "markdown",
   "id": "ac642458",
   "metadata": {},
   "source": [
    "### Ques.6 - Write a Python function to calculate the cumulative distribution function of a Poisson distribution with given mean at a given point."
   ]
  },
  {
   "cell_type": "code",
   "execution_count": 28,
   "id": "87f7a2e3",
   "metadata": {},
   "outputs": [
    {
     "name": "stdout",
     "output_type": "stream",
     "text": [
      "The CDF at x=3 with mean=2.5 is 0.7575761331330659\n"
     ]
    }
   ],
   "source": [
    "import math\n",
    "\n",
    "def poisson_cdf(x, mean):\n",
    "    cdf = 0\n",
    "    for k in range(x + 1):\n",
    "        cdf += (math.exp(-mean) * mean ** k) / math.factorial(k)\n",
    "    return cdf\n",
    "\n",
    "cdf_value = poisson_cdf(3,2.5)\n",
    "print(f\"The CDF at x={x} with mean={mean} is {cdf_value}\")"
   ]
  },
  {
   "cell_type": "markdown",
   "id": "7457899f",
   "metadata": {},
   "source": [
    "### Ques.7 - How Binomial distribution different from Poisson distribution?"
   ]
  },
  {
   "cell_type": "markdown",
   "id": "1575a8f2",
   "metadata": {},
   "source": [
    "Here's a brief explanation of the difference between the Binomial and Poisson distributions:\n",
    "\n",
    "1.Binomial Distribution:\n",
    "- Represents the number of successes in a fixed number of independent trials.\n",
    "- Each trial has two possible outcomes: success or failure.\n",
    "- The probability of success remains constant for each trial.\n",
    "- The number of trials is fixed and finite.\n",
    "- The distribution is discrete, meaning it deals with whole number values.\n",
    "- Examples: Coin flips, the number of correct answers on a multiple-choice exam.\n",
    "\n",
    "2.Poisson Distribution:\n",
    "- Represents the number of events that occur within a fixed interval of time or space.\n",
    "- The events occur independently of each other.\n",
    "- The probability of an event occurring in a given interval is constant.\n",
    "- The number of events can range from 0 to infinity.\n",
    "- The distribution is discrete, but can approximate a continuous distribution for large values.\n",
    "- Examples: Number of phone calls received per hour, the number of accidents on a given day.\n",
    "\n",
    "In summary, the key difference between the Binomial and Poisson distributions lies in the context in which they are applied. The Binomial distribution is used for a fixed number of trials with two possible outcomes, while the Poisson distribution is used for the number of events occurring in a fixed interval.\n",
    "\n",
    "\n",
    "\n",
    "\n"
   ]
  },
  {
   "cell_type": "markdown",
   "id": "2c5f732f",
   "metadata": {},
   "source": [
    "### Ques.8 - Generate a random sample of size 1000 from a Poisson distribution with mean 5 and calculate the sample mean and variance."
   ]
  },
  {
   "cell_type": "code",
   "execution_count": 29,
   "id": "34a620e7",
   "metadata": {},
   "outputs": [
    {
     "name": "stdout",
     "output_type": "stream",
     "text": [
      "Sample Mean =  5.06\n",
      "Sample Variance =  5.2063999999999995\n"
     ]
    }
   ],
   "source": [
    "import numpy as np \n",
    "import matplotlib.pyplot as plt\n",
    "\n",
    "sample = np.random.poisson(5,1000)\n",
    "\n",
    "sample_mean = np.mean(sample)\n",
    "sample_variance = np.var(sample)\n",
    "\n",
    "print(\"Sample Mean = \",sample_mean)\n",
    "print(\"Sample Variance = \",sample_variance)\n"
   ]
  },
  {
   "cell_type": "markdown",
   "id": "d31afe57",
   "metadata": {},
   "source": [
    "### Ques.9 - How mean and variance are related in Binomial distribution and Poisson distribution?"
   ]
  },
  {
   "cell_type": "markdown",
   "id": "65a212b0",
   "metadata": {},
   "source": [
    "In both the Binomial and Poisson distributions, the mean and variance are closely related, but their relationships differ. Here's a brief explanation:\n",
    "\n",
    "1.Binomial Distribution:\n",
    "\n",
    "- Mean: The mean of a binomial distribution is equal to the product of the number of trials (n) and the probability of success (p), denoted as np.\n",
    "- Variance: The variance of a binomial distribution is calculated as the product of the number of trials, the probability of success, and the probability of failure (1-p), denoted as np(1-p).\n",
    "- Example: If you have a binomial distribution with 100 trials (n = 100) and a probability of success of 0.3 (p = 0.3), the mean would be 100 * 0.3 = 30, and the variance would be 100 * 0.3 * (1 - 0.3) = 21.\n",
    "\n",
    "2.Poisson Distribution:\n",
    "\n",
    "- Mean: The mean of a Poisson distribution is denoted by the parameter lambda (λ), which represents the average rate of events occurring in a given interval.\n",
    "- Variance: The variance of a Poisson distribution is equal to its mean, which is also λ.\n",
    "- Example: If you have a Poisson distribution with a mean of 2.5 (λ = 2.5), the variance would also be 2.5.\n",
    "\n",
    "In summary, in the Binomial distribution, the variance depends on both the number of trials and the probability of success, while in the Poisson distribution, the variance is equal to the mean."
   ]
  },
  {
   "cell_type": "markdown",
   "id": "2befb80d",
   "metadata": {},
   "source": [
    "### Ques.10 - In normal distribution with respect to mean position, where does the least frequent data appear?"
   ]
  },
  {
   "cell_type": "markdown",
   "id": "2de52456",
   "metadata": {},
   "source": [
    "In a normal distribution, the least frequent data appears in the tails of the distribution, which are the regions farthest away from the mean. Here's a brief explanation:\n",
    "\n",
    "- In a normal distribution, the data is symmetrically distributed around the mean.\n",
    "- The majority of the data points cluster around the mean, making it the most frequent value in the distribution.\n",
    "- As the distribution moves away from the mean towards the tails, the frequency of data points decreases.\n",
    "- The tails of the distribution represent the extreme values, and since they occur less frequently, they are considered the least frequent data points.\n",
    "\n",
    "In summary, in a normal distribution, the least frequent data appears in the tails, which are the regions farthest away from the mean. The majority of the data is concentrated around the mean, resulting in the mean being the most frequent value."
   ]
  }
 ],
 "metadata": {
  "kernelspec": {
   "display_name": "Python 3 (ipykernel)",
   "language": "python",
   "name": "python3"
  },
  "language_info": {
   "codemirror_mode": {
    "name": "ipython",
    "version": 3
   },
   "file_extension": ".py",
   "mimetype": "text/x-python",
   "name": "python",
   "nbconvert_exporter": "python",
   "pygments_lexer": "ipython3",
   "version": "3.9.7"
  }
 },
 "nbformat": 4,
 "nbformat_minor": 5
}
