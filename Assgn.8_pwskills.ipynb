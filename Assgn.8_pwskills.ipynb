{
 "cells": [
  {
   "cell_type": "markdown",
   "id": "38f36006",
   "metadata": {},
   "source": [
    "#### Ques.1 -You are writing code for a company. The requirement of the company is that you create a python function that will check whether the password entered by the user is correct or not. The function should take the password as input and return the string \"Valid Password\" if the entered password follows the below-given password guidelines else it should return \"Invalid Password\".\n",
    "#### Note:\n",
    "#### 1. The Password should contain at least two uppercase letters and at least two lowercase letters.\n",
    "#### 2. The Password should contain at least a number and three special characters.\n",
    "#### 3. The length of the password should be 10 characters long."
   ]
  },
  {
   "cell_type": "code",
   "execution_count": 74,
   "id": "3f99a362",
   "metadata": {},
   "outputs": [],
   "source": [
    "import re\n",
    "\n",
    "def chk_password(password):\n",
    "    if len(password)!=10:\n",
    "        return \"Invalid Password\"\n",
    "    if not re.search(r'[A-Z].*[A-Z]',password) or not re.search(r'[a-z].*[a-z]',password):\n",
    "        return \"Invalid Password\"\n",
    "    if not re.search(r'/d',password) and not len(re.findall(r'!@#$%^&*()_+',password))<3:\n",
    "        return \"Invalid Password\"\n",
    "    return \"Valid Password\""
   ]
  },
  {
   "cell_type": "code",
   "execution_count": 76,
   "id": "396e52ac",
   "metadata": {},
   "outputs": [
    {
     "data": {
      "text/plain": [
       "'Invalid Password'"
      ]
     },
     "execution_count": 76,
     "metadata": {},
     "output_type": "execute_result"
    }
   ],
   "source": [
    "chk_password(\"nyhrl*!\")"
   ]
  },
  {
   "cell_type": "code",
   "execution_count": 77,
   "id": "7bb9bda3",
   "metadata": {},
   "outputs": [
    {
     "data": {
      "text/plain": [
       "'Valid Password'"
      ]
     },
     "execution_count": 77,
     "metadata": {},
     "output_type": "execute_result"
    }
   ],
   "source": [
    "chk_password(\"ANUpam@123\")"
   ]
  },
  {
   "cell_type": "markdown",
   "id": "d557b43d",
   "metadata": {},
   "source": [
    "#### Ques.2 - Solve the below-given questions using at least one of the following:\n",
    "#### 1. Lambda function\n",
    "#### 2. Filter function\n",
    "#### 3. Map function\n",
    "#### 4. List Comprehension\n",
    "Check if the string starts with a particular letter.\n",
    "\n",
    "Check if the string is numeric.\n",
    "\n",
    "Sort a list of tuples having fruit names and their quantity. [(\"mango\",99), (\"orange\", 80), (\"grapes\", 1000)]\n",
    "\n",
    "Find the squares of numbers from 1 to 10.\n",
    "\n",
    "Find the cube root of numbers from 1 to 10.\n",
    "\n",
    "Check if a given number is even.\n",
    "\n",
    "Filter odd numbers from the given list.\n",
    "\n",
    "[1,2,3,4,5,6,7,8,9,10]\n",
    "\n",
    "Sort a list of integers into positive and negative integers lists.\n",
    "\n",
    "[1,2,3,4,5,6,-1,-2,-3,-4,-5,0]\n",
    "\n",
    "Check if the string starts with a particular letter."
   ]
  },
  {
   "cell_type": "markdown",
   "id": "1d974150",
   "metadata": {},
   "source": [
    "#### Check if the string starts with a particular letter."
   ]
  },
  {
   "cell_type": "code",
   "execution_count": 55,
   "id": "055a961c",
   "metadata": {},
   "outputs": [
    {
     "data": {
      "text/plain": [
       "['string starts with A']"
      ]
     },
     "execution_count": 55,
     "metadata": {},
     "output_type": "execute_result"
    }
   ],
   "source": [
    "s=\"Anupam\"\n",
    "[\"string starts with A\" for i in s if i[0]== \"A\" ]"
   ]
  },
  {
   "cell_type": "markdown",
   "id": "9349b101",
   "metadata": {},
   "source": [
    "#### Check if the string is numeric."
   ]
  },
  {
   "cell_type": "code",
   "execution_count": 23,
   "id": "6d0b3fde",
   "metadata": {},
   "outputs": [
    {
     "name": "stdout",
     "output_type": "stream",
     "text": [
      "True\n"
     ]
    }
   ],
   "source": [
    "string = \"54321\"\n",
    "is_numeric = all([i.isdigit() or i == '.' for i in string])\n",
    "print(is_numeric)"
   ]
  },
  {
   "cell_type": "markdown",
   "id": "25437de6",
   "metadata": {},
   "source": [
    "####  Sort a list of tuples having fruit names and their quantity. [(\"mango\",99), (\"orange\", 80), (\"grapes\", 1000)]"
   ]
  },
  {
   "cell_type": "code",
   "execution_count": 72,
   "id": "32043c32",
   "metadata": {},
   "outputs": [
    {
     "name": "stdout",
     "output_type": "stream",
     "text": [
      "[('orange', 80), ('mango', 99), ('grapes', 1000)]\n"
     ]
    }
   ],
   "source": [
    "li = [(\"mango\",99), (\"orange\", 80), (\"grapes\", 1000)]\n",
    "li.sort(key = lambda x:x[1])\n",
    "print(li)"
   ]
  },
  {
   "cell_type": "markdown",
   "id": "11b908e7",
   "metadata": {},
   "source": [
    "#### Find the squares of numbers from 1 to 10."
   ]
  },
  {
   "cell_type": "code",
   "execution_count": 25,
   "id": "5768bff0",
   "metadata": {},
   "outputs": [
    {
     "data": {
      "text/plain": [
       "[1, 4, 9, 16, 25, 36, 49, 64, 81, 100]"
      ]
     },
     "execution_count": 25,
     "metadata": {},
     "output_type": "execute_result"
    }
   ],
   "source": [
    "[i*i for i in range(1,11)]"
   ]
  },
  {
   "cell_type": "markdown",
   "id": "cfda80d6",
   "metadata": {},
   "source": [
    "#### Find the cube root of numbers from 1 to 10."
   ]
  },
  {
   "cell_type": "code",
   "execution_count": 31,
   "id": "fe7f98f8",
   "metadata": {},
   "outputs": [
    {
     "data": {
      "text/plain": [
       "[1, 8, 27, 64, 125, 216, 343, 512, 729, 1000]"
      ]
     },
     "execution_count": 31,
     "metadata": {},
     "output_type": "execute_result"
    }
   ],
   "source": [
    "li = list(range(1,11))\n",
    "cu = list(map(lambda li : li*li*li ,li))\n",
    "cu"
   ]
  },
  {
   "cell_type": "markdown",
   "id": "ceb06ec1",
   "metadata": {},
   "source": [
    "#### Check if a given number is even."
   ]
  },
  {
   "cell_type": "code",
   "execution_count": 56,
   "id": "62aac9a8",
   "metadata": {},
   "outputs": [
    {
     "name": "stdout",
     "output_type": "stream",
     "text": [
      "Enter number : 14\n",
      "Even number\n"
     ]
    }
   ],
   "source": [
    "num = int(input(\"Enter number : \"))\n",
    "check_even = print(\"Even number\") if num%2 == 0 else print(\"Odd Number\")"
   ]
  },
  {
   "cell_type": "markdown",
   "id": "3237fbd6",
   "metadata": {},
   "source": [
    "#### Filter odd numbers from the given list.\n",
    "\n",
    "[1,2,3,4,5,6,7,8,9,10]"
   ]
  },
  {
   "cell_type": "code",
   "execution_count": 58,
   "id": "cc436863",
   "metadata": {},
   "outputs": [
    {
     "name": "stdout",
     "output_type": "stream",
     "text": [
      "The odd numbers in the list are : [1, 3, 5, 7, 9]\n"
     ]
    }
   ],
   "source": [
    "li = [1,2,3,4,5,6,7,8,9,10]\n",
    "is_odd = list(filter(lambda x:x%2 != 0 ,li))\n",
    "print(\"The odd numbers in the list are :\",is_odd)"
   ]
  },
  {
   "cell_type": "markdown",
   "id": "89c2ab9f",
   "metadata": {},
   "source": [
    "#### Sort a list of integers into positive and negative integers lists.\n",
    "\n",
    "[1,2,3,4,5,6,-1,-2,-3,-4,-5,0]"
   ]
  },
  {
   "cell_type": "code",
   "execution_count": 68,
   "id": "8a081cce",
   "metadata": {},
   "outputs": [
    {
     "name": "stdout",
     "output_type": "stream",
     "text": [
      "Positive numbers in the list are : [0, 1, 2, 3, 4, 5, 6]\n",
      "Negative numbers in the list are : [-5, -4, -3, -2, -1]\n"
     ]
    }
   ],
   "source": [
    "li = [1,2,3,4,5,6,-1,-2,-3,-4,-5,0]\n",
    "pos = list(filter(lambda x:x>=0 ,li))\n",
    "neg = list(filter(lambda x:x<0 ,li))\n",
    "pos.sort()\n",
    "neg.sort()\n",
    "print('Positive numbers in the list are :' ,pos)\n",
    "print('Negative numbers in the list are :' ,neg)\n"
   ]
  }
 ],
 "metadata": {
  "kernelspec": {
   "display_name": "Python 3 (ipykernel)",
   "language": "python",
   "name": "python3"
  },
  "language_info": {
   "codemirror_mode": {
    "name": "ipython",
    "version": 3
   },
   "file_extension": ".py",
   "mimetype": "text/x-python",
   "name": "python",
   "nbconvert_exporter": "python",
   "pygments_lexer": "ipython3",
   "version": "3.9.7"
  }
 },
 "nbformat": 4,
 "nbformat_minor": 5
}
