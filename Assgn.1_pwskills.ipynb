{
 "cells": [
  {
   "cell_type": "markdown",
   "id": "0ffeafb6",
   "metadata": {},
   "source": [
    "#### Ques.1 - Who developed python Programming Language? "
   ]
  },
  {
   "cell_type": "raw",
   "id": "ec29febe",
   "metadata": {},
   "source": [
    "Python programming language was developed by Guido van Rossum in the late 1980s and early 1990s."
   ]
  },
  {
   "cell_type": "markdown",
   "id": "4788016b",
   "metadata": {},
   "source": [
    "#### Ques.2 - Which type of programming does python support?"
   ]
  },
  {
   "cell_type": "raw",
   "id": "3f6589fe",
   "metadata": {},
   "source": [
    "Python supports multiple programming paradigms, including object-oriented programming, procedural programming, and functional programming."
   ]
  },
  {
   "cell_type": "markdown",
   "id": "9116a390",
   "metadata": {},
   "source": [
    "#### Ques.3 - Is python case sensitive when dealing with identifiers?"
   ]
  },
  {
   "cell_type": "raw",
   "id": "3e4000f4",
   "metadata": {},
   "source": [
    "Yes, Python is case sensitive when dealing with identifiers, meaning that names like \"MyVariable\" and \"myvariable\" would be considered as two different variables in Python."
   ]
  },
  {
   "cell_type": "markdown",
   "id": "9a6060ff",
   "metadata": {},
   "source": [
    "#### Ques.4 - What is the correct extension of the python file?"
   ]
  },
  {
   "cell_type": "raw",
   "id": "3b3f1673",
   "metadata": {},
   "source": [
    "The correct extension for Python files is .py."
   ]
  },
  {
   "cell_type": "markdown",
   "id": "bf2d10bb",
   "metadata": {},
   "source": [
    "#### Ques.5 - Is Python code compiled or interpreted?"
   ]
  },
  {
   "cell_type": "raw",
   "id": "1d5a91a4",
   "metadata": {},
   "source": [
    "Python code is interpreted, not compiled. The source code is executed line by line by the Python interpreter, rather than being translated into machine code before execution."
   ]
  },
  {
   "cell_type": "markdown",
   "id": "4af0b399",
   "metadata": {},
   "source": [
    "#### Ques.6 - Name a few blocks of code used to define in python language?"
   ]
  },
  {
   "cell_type": "raw",
   "id": "822147c3",
   "metadata": {},
   "source": [
    "In Python, blocks of code are defined using indentation. Some common blocks of code used in Python include:\n",
    "\n",
    "Functions: defined using the \"def\" keyword, followed by the function name and its parameters.\n",
    "\n",
    "Loops: defined using keywords such as \"for\" and \"while\", and are used to repeat a block of code multiple times."
   ]
  },
  {
   "cell_type": "markdown",
   "id": "01718d4c",
   "metadata": {},
   "source": [
    "#### Ques.7 -State a character used to give single—line comments in Python?"
   ]
  },
  {
   "cell_type": "raw",
   "id": "ea832002",
   "metadata": {},
   "source": [
    "The character used to give single-line comments in Python is the hash symbol (#). Everything that follows the hash symbol on a line is considered a comment and ignored by the interpreter."
   ]
  },
  {
   "cell_type": "markdown",
   "id": "f80d8c7d",
   "metadata": {},
   "source": [
    "#### Ques.8 -  Mention functions which can help us to find the version of python that we are currently working on?"
   ]
  },
  {
   "cell_type": "raw",
   "id": "1d20c7ed",
   "metadata": {},
   "source": [
    "python --version"
   ]
  },
  {
   "cell_type": "markdown",
   "id": "b26295b0",
   "metadata": {},
   "source": [
    "#### Ques.9 - Python supports the creation of anonymous functions at runtime, using a construct called _____"
   ]
  },
  {
   "cell_type": "markdown",
   "id": "05950b21",
   "metadata": {},
   "source": [
    "Python supports the creation of anonymous functions at runtime, using a construct called \"lambda\"."
   ]
  },
  {
   "cell_type": "markdown",
   "id": "a2bda887",
   "metadata": {},
   "source": [
    "#### Ques.10 -What does pip stand for python?"
   ]
  },
  {
   "cell_type": "raw",
   "id": "f38a40fd",
   "metadata": {},
   "source": [
    "PIP stands for \"Pip Installs Packages\". It is a package manager for Python, used to install and manage packages (libraries and modules) that can be used in Python projects."
   ]
  },
  {
   "cell_type": "markdown",
   "id": "825321ce",
   "metadata": {},
   "source": [
    "\n",
    "#### Ques.11 -Mention a few built-in functions in python?"
   ]
  },
  {
   "cell_type": "raw",
   "id": "44c692dc",
   "metadata": {},
   "source": [
    "Here are some of the commonly used built-in functions in Python:\n",
    "\n",
    "print(): used to print output to the console.\n",
    "\n",
    "len(): used to find the length of an object, such as a list or string.\n",
    "\n",
    "sum(): used to calculate the sum of elements in an iterable, such as a list or tuple.\n",
    "\n",
    "max(): used to find the maximum value in an iterable.\n",
    "\n",
    "min(): used to find the minimum value in an iterable.\n",
    "\n",
    "sorted(): used to sort an iterable in ascending or descending order.\n",
    "\n",
    "str(): used to convert an object to a string.\n",
    "\n",
    "int(): used to convert a string or float to an integer.\n",
    "\n",
    "float(): used to convert a string or integer to a float.\n",
    "\n",
    "type(): used to determine the type of an object."
   ]
  },
  {
   "cell_type": "markdown",
   "id": "a608614a",
   "metadata": {},
   "source": [
    "#### Ques.12 - What is the maximum possible length of an identifier in Python?"
   ]
  },
  {
   "cell_type": "raw",
   "id": "5638838d",
   "metadata": {},
   "source": [
    "In Python, there is no explicit limit to the length of an identifier (variable name, function name, etc.). However, there is an implicit limit imposed by the amount of memory available in your system. Generally, a very long identifier name is not considered a good practice, as it can make your code hard to read and maintain."
   ]
  },
  {
   "cell_type": "markdown",
   "id": "dbbf4ba2",
   "metadata": {},
   "source": [
    "#### Ques.13 - What are the benefits of using Python?"
   ]
  },
  {
   "cell_type": "raw",
   "id": "da40e21e",
   "metadata": {},
   "source": [
    "There are many benefits of using Python as a programming language, some of the most notable ones include:\n",
    "\n",
    "1.Easy to learn and use: Python has a simple and straightforward syntax, which makes it easy to learn and use for both beginners and experienced programmers.\n",
    "\n",
    "2.Versatile: Python can be used for a wide range of applications, including web development, scientific computing, data analysis, artificial intelligence, and more.\n",
    "\n",
    "3.Large community: Python has a large and active community of developers, which provides a wealth of resources, such as tutorials, documentation, and packages.\n",
    "\n",
    "4.Plenty of libraries and packages: Python has a large number of libraries and packages available, which provide a wide range of functionality and make it easy to add new features to your projects.\n",
    "\n",
    "5.Cross-platform: Python can run on a wide range of platforms, including Windows, macOS, and Linux, making it a versatile choice for developing applications.\n",
    "\n",
    "6.Dynamic typing: Python uses dynamic typing, which allows you to write flexible and concise code without having to specify variable types beforehand.\n",
    "\n",
    "7.High-level language: Python is a high-level language, which provides abstractions for complex operations and makes it easy to write and maintain complex code."
   ]
  },
  {
   "cell_type": "markdown",
   "id": "1c65474d",
   "metadata": {},
   "source": [
    "#### Ques.14- How is memory managed in Python?"
   ]
  },
  {
   "cell_type": "raw",
   "id": "a410c8a1",
   "metadata": {},
   "source": [
    "In Python, memory management is performed automatically by the Python memory manager, which is part of the Python interpreter. The Python memory manager is responsible for allocating and deallocating memory for objects as they are created and destroyed."
   ]
  },
  {
   "cell_type": "markdown",
   "id": "347adfe7",
   "metadata": {},
   "source": [
    "#### Ques.15 - How to install Python on Windows and set path variables?"
   ]
  },
  {
   "cell_type": "raw",
   "id": "99cb00b0",
   "metadata": {},
   "source": [
    "To install Python on Windows:\n",
    "\n",
    "1.Visit the official Python website (https://www.python.org/downloads/windows/) and download the latest version of Python for Windows.\n",
    "\n",
    "2.Run the downloaded Python executable file to begin the installation process.\n",
    "\n",
    "3.Follow the on-screen instructions to complete the installation. Make sure to check the option to \"Add Python 3.x to PATH\" to automatically set the path variables.\n",
    "\n",
    "4.To verify the installation, open the Command Prompt and type \"python\" to launch the Python interpreter.\n",
    "\n",
    "If you need to set the path variables manually, you can do so by following these steps:\n",
    "\n",
    "1.Open the Start menu and search for \"Environment Variables\".\n",
    "\n",
    "2.Click on \"Edit the system environment variables\".\n",
    "\n",
    "3.In the System Properties window, click on the \"Environment Variables\" button.\n",
    "\n",
    "4.In the Environment Variables window, under \"System Variables\", scroll down and find the \"Path\" variable, then click on \"Edit\".\n",
    "\n",
    "5.Add the path to the Python installation (e.g., \"C:\\Python\\Python36\" or \"C:\\Python\\Python36\\Scripts\") to the end of the list of paths.\n",
    "\n",
    "6.Click \"OK\" to close all windows and save the changes.\n",
    "\n",
    "7.To verify the changes, open the Command Prompt and type \"python\". The Python interpreter should start."
   ]
  },
  {
   "cell_type": "markdown",
   "id": "e10d7d75",
   "metadata": {},
   "source": [
    "#### Ques.16 - Is identation required in Python?"
   ]
  },
  {
   "cell_type": "raw",
   "id": "37c624ef",
   "metadata": {},
   "source": [
    "Yes, indentation is required in Python. Indentation is used to define blocks of code, such as loops, functions, and classes. In Python, a block of code is indicated by the indentation level. The standard indentation level is 4 spaces, but it can be any number of spaces as long as it is consistent throughout the code. Failing to indent code properly will result in a syntax error."
   ]
  }
 ],
 "metadata": {
  "kernelspec": {
   "display_name": "Python 3 (ipykernel)",
   "language": "python",
   "name": "python3"
  },
  "language_info": {
   "codemirror_mode": {
    "name": "ipython",
    "version": 3
   },
   "file_extension": ".py",
   "mimetype": "text/x-python",
   "name": "python",
   "nbconvert_exporter": "python",
   "pygments_lexer": "ipython3",
   "version": "3.9.7"
  }
 },
 "nbformat": 4,
 "nbformat_minor": 5
}
