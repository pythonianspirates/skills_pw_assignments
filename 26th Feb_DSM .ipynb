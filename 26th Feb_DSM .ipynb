{
 "cells": [
  {
   "cell_type": "markdown",
   "id": "8c853563",
   "metadata": {},
   "source": [
    "#### Ques.1 - Is there any difference in the data type of variables list_ and array_list? If there is then write a code to print the data types of both the variables."
   ]
  },
  {
   "cell_type": "markdown",
   "id": "2fbbd03f",
   "metadata": {},
   "source": [
    "Yes, there is difference between 'variable list_' and 'array_list_' ."
   ]
  },
  {
   "cell_type": "code",
   "execution_count": 6,
   "id": "6e17715e",
   "metadata": {},
   "outputs": [
    {
     "name": "stdout",
     "output_type": "stream",
     "text": [
      "The datatype of variable list is  <class 'list'>\n",
      "The datatype of array list is  <class 'numpy.ndarray'>\n"
     ]
    }
   ],
   "source": [
    "import numpy as np\n",
    "var_list =['1', '2', '3', '4', '5']\n",
    "arr_list = np.array(var_list)\n",
    "\n",
    "print('The datatype of variable list is ', type(var_list))\n",
    "print('The datatype of array list is ', type(arr_list))"
   ]
  },
  {
   "cell_type": "markdown",
   "id": "cc542f44",
   "metadata": {},
   "source": [
    "#### Ques.2 - Write a code to print the data type of each and every element of both the variables list_ and array_list."
   ]
  },
  {
   "cell_type": "code",
   "execution_count": 7,
   "id": "5cf8b14b",
   "metadata": {},
   "outputs": [
    {
     "name": "stdout",
     "output_type": "stream",
     "text": [
      "The Datatypes of variable list are :- \n",
      "\t The daytatype is :  <class 'str'>\n",
      "\t The daytatype is :  <class 'str'>\n",
      "\t The daytatype is :  <class 'str'>\n",
      "\t The daytatype is :  <class 'str'>\n",
      "\t The daytatype is :  <class 'str'>\n",
      "The Datatypes of array list are :- \n",
      "\t The daytatype is :  <class 'numpy.str_'>\n",
      "\t The daytatype is :  <class 'numpy.str_'>\n",
      "\t The daytatype is :  <class 'numpy.str_'>\n",
      "\t The daytatype is :  <class 'numpy.str_'>\n",
      "\t The daytatype is :  <class 'numpy.str_'>\n"
     ]
    }
   ],
   "source": [
    "print('The Datatypes of variable list are :- ')\n",
    "for i in var_list:\n",
    "    print('\\t The daytatype is : ',type(i))\n",
    "     \n",
    "print('The Datatypes of array list are :- ')\n",
    "for i in arr_list:\n",
    "    print('\\t The daytatype is : ',type(i))"
   ]
  },
  {
   "cell_type": "markdown",
   "id": "8c9083bc",
   "metadata": {},
   "source": [
    "#### Ques.3 -  Considering the following changes in the variable, array_list:\n",
    "array_list = np.array(object = list_, dtype = int)\n",
    "\n",
    "Will there be any difference in the data type of the elements present in both the variables, list_ and arra_list? If so then print the data types of each and every element present in both the variables, list_ and arra_list."
   ]
  },
  {
   "cell_type": "code",
   "execution_count": 17,
   "id": "13b142ba",
   "metadata": {},
   "outputs": [
    {
     "name": "stdout",
     "output_type": "stream",
     "text": [
      "The Datatypes of variable list are :- \n",
      "\t The daytatype is :  <class 'str'>\n",
      "\t The daytatype is :  <class 'str'>\n",
      "\t The daytatype is :  <class 'str'>\n",
      "\t The daytatype is :  <class 'str'>\n",
      "\t The daytatype is :  <class 'str'>\n",
      "The Datatypes of array list are :- \n",
      "\t The daytatype is :  <class 'numpy.int32'>\n",
      "\t The daytatype is :  <class 'numpy.int32'>\n",
      "\t The daytatype is :  <class 'numpy.int32'>\n",
      "\t The daytatype is :  <class 'numpy.int32'>\n",
      "\t The daytatype is :  <class 'numpy.int32'>\n"
     ]
    }
   ],
   "source": [
    "arr_list = np.array(var_list, dtype = int)\n",
    "\n",
    "print('The Datatypes of variable list are :- ')\n",
    "for i in var_list:\n",
    "    print('\\t The daytatype is : ',type(i))\n",
    "     \n",
    "print('The Datatypes of array list are :- ')\n",
    "for i in arr_list:\n",
    "    print('\\t The daytatype is : ',type(i))\n"
   ]
  },
  {
   "cell_type": "markdown",
   "id": "216efc90",
   "metadata": {},
   "source": [
    "#### Consider the below code to answer further questions:\n",
    "import numpy as np\n",
    "\n",
    "num_list = [ [ 1 , 2 , 3 ] , [ 4 , 5 , 6 ] ]\n",
    "\n",
    "num_array = np.array(object = num_list)\n",
    "\n",
    "#### Ques.4 -  Write a code to find the following characteristics of variable, num_array:\n",
    "####  (i) shape"
   ]
  },
  {
   "cell_type": "code",
   "execution_count": 19,
   "id": "d093aeb0",
   "metadata": {},
   "outputs": [],
   "source": [
    "import numpy as np\n",
    "num_list = [[1, 2, 3], [4, 5, 6]]\n",
    "num_array =np.array(object=num_list)"
   ]
  },
  {
   "cell_type": "code",
   "execution_count": 20,
   "id": "596a27bd",
   "metadata": {},
   "outputs": [
    {
     "data": {
      "text/plain": [
       "(2, 3)"
      ]
     },
     "execution_count": 20,
     "metadata": {},
     "output_type": "execute_result"
    }
   ],
   "source": [
    "np.shape(num_array)"
   ]
  },
  {
   "cell_type": "markdown",
   "id": "eb1ee8c3",
   "metadata": {},
   "source": [
    "#### (ii) size"
   ]
  },
  {
   "cell_type": "code",
   "execution_count": 21,
   "id": "ef18fbfa",
   "metadata": {},
   "outputs": [
    {
     "data": {
      "text/plain": [
       "6"
      ]
     },
     "execution_count": 21,
     "metadata": {},
     "output_type": "execute_result"
    }
   ],
   "source": [
    "np.size(num_array)"
   ]
  },
  {
   "cell_type": "markdown",
   "id": "656b4c68",
   "metadata": {},
   "source": [
    "#### Ques.5 - Write a code to create numpy array of 3*3 matrix containing zeros only, using a numpy array creation function. [Hint: The size of the array will be 9 and the shape will be (3,3).]"
   ]
  },
  {
   "cell_type": "code",
   "execution_count": 4,
   "id": "5d11691b",
   "metadata": {},
   "outputs": [
    {
     "data": {
      "text/plain": [
       "array([[0., 0., 0.],\n",
       "       [0., 0., 0.],\n",
       "       [0., 0., 0.]])"
      ]
     },
     "execution_count": 4,
     "metadata": {},
     "output_type": "execute_result"
    }
   ],
   "source": [
    "import numpy as np\n",
    "arr = np.zeros((3,3))\n",
    "arr"
   ]
  },
  {
   "cell_type": "markdown",
   "id": "3229dd19",
   "metadata": {},
   "source": [
    "#### Ques.6 - Create an identity matrix of shape (5,5) using numpy functions? [Hint: An identity matrix is a matrix containing 1 diagonally and other elements will be 0.]"
   ]
  },
  {
   "cell_type": "code",
   "execution_count": 6,
   "id": "6569854c",
   "metadata": {},
   "outputs": [
    {
     "data": {
      "text/plain": [
       "array([[1., 0., 0., 0., 0.],\n",
       "       [0., 1., 0., 0., 0.],\n",
       "       [0., 0., 1., 0., 0.],\n",
       "       [0., 0., 0., 1., 0.],\n",
       "       [0., 0., 0., 0., 1.]])"
      ]
     },
     "execution_count": 6,
     "metadata": {},
     "output_type": "execute_result"
    }
   ],
   "source": [
    "import numpy as np\n",
    "array = np.eye(5)\n",
    "array"
   ]
  }
 ],
 "metadata": {
  "kernelspec": {
   "display_name": "Python 3 (ipykernel)",
   "language": "python",
   "name": "python3"
  },
  "language_info": {
   "codemirror_mode": {
    "name": "ipython",
    "version": 3
   },
   "file_extension": ".py",
   "mimetype": "text/x-python",
   "name": "python",
   "nbconvert_exporter": "python",
   "pygments_lexer": "ipython3",
   "version": "3.9.7"
  }
 },
 "nbformat": 4,
 "nbformat_minor": 5
}
