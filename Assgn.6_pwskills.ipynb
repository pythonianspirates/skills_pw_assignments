{
 "cells": [
  {
   "cell_type": "markdown",
   "id": "a2ff9b0d",
   "metadata": {},
   "source": [
    "#### Ques.1 - Explain Class and Object with respect to Object-Oriented Programming. Give a suitable example."
   ]
  },
  {
   "cell_type": "markdown",
   "id": "f06757f5",
   "metadata": {},
   "source": [
    "Class and Object are two fundamental concepts in Object-Oriented Programming (OOP).\n",
    "\n",
    "A Class is a blueprint or a template for creating objects. It defines a set of attributes (data) and behaviors (methods) that objects created from the class will have. For example, you can have a class \"Car\" which can have attributes such as make, model, year, and color, and methods such as start, stop, and drive.\n",
    "\n",
    "An Object, on the other hand, is an instance of a class. It is a real-world entity that has attributes and behaviors defined by the class. Objects created from a class are unique and can have different values for their attributes. For example, you can create two objects from the class \"Car\": one object could be a red 2020 Toyota Camry, and the other could be a blue 2021 Honda Civic.\n",
    "\n",
    "In summary, a class defines what an object is, and an object is an instance of a class."
   ]
  },
  {
   "cell_type": "markdown",
   "id": "6b731725",
   "metadata": {},
   "source": [
    "#### Ques.2 - Name the four pillars of OOPS."
   ]
  },
  {
   "cell_type": "markdown",
   "id": "f791e7b6",
   "metadata": {},
   "source": [
    "The four pillars of OOPs are Polymorphism, Encapsulation, Inheritance and Abstraction."
   ]
  },
  {
   "cell_type": "markdown",
   "id": "53a833d1",
   "metadata": {},
   "source": [
    "#### Ques.3 -Explain why the init() function is used. Give a suitable example."
   ]
  },
  {
   "cell_type": "markdown",
   "id": "c88bfdeb",
   "metadata": {},
   "source": [
    "init() is a method which is termed as constructor that takes self argument with a function call and initializes the attibute of the instance of the class at the time of creating it."
   ]
  },
  {
   "cell_type": "code",
   "execution_count": 3,
   "id": "d0590d49",
   "metadata": {},
   "outputs": [
    {
     "data": {
      "text/plain": [
       "('Anupam', 'CSE-DS', 101)"
      ]
     },
     "execution_count": 3,
     "metadata": {},
     "output_type": "execute_result"
    }
   ],
   "source": [
    "class Student:\n",
    "    def __init__(self,name,branch,id_no):\n",
    "        self.name=name\n",
    "        self.branch=branch\n",
    "        self.id_no=id_no\n",
    "        \n",
    "    def student_detail(self):\n",
    "        return self.name,self.branch,self.id_no\n",
    "    \n",
    "st_1=Student(\"Anupam\",\"CSE-DS\",101)\n",
    "st_1.student_detail()"
   ]
  },
  {
   "cell_type": "markdown",
   "id": "0de96424",
   "metadata": {},
   "source": [
    "#### Ques.4-Why self is used in OOPS?"
   ]
  },
  {
   "cell_type": "markdown",
   "id": "574cd80f",
   "metadata": {},
   "source": [
    "In Object-Oriented Programming (OOP), the self keyword is used to refer to the instance of an object itself. In other words, it's a reference to the object on which the method is being called.\n",
    "\n",
    "When we call a method on an object, we need a way to refer to that object within the method. That's where self comes in. It allows us to access the attributes and methods of the object from within the method."
   ]
  },
  {
   "cell_type": "markdown",
   "id": "e3c71596",
   "metadata": {},
   "source": [
    "#### Ques.5 -What is inheritance? Give an example for each type of inheritance."
   ]
  },
  {
   "cell_type": "markdown",
   "id": "bfef7dba",
   "metadata": {},
   "source": [
    "Inheritance is a fundamental concept in Object-Oriented Programming (OOP) that allows you to create new classes based on existing classes. The new class inherits attributes and behaviors from the existing class, which can be customized to fit the new class's requirements. This enables you to reuse code, reduce duplicated code, and create a more organized and manageable codebase.\n",
    "\n",
    "There are several types of inheritance in OOP, including:\n",
    "\n",
    "1.Single Inheritance: Single inheritance is when a class inherits from a single parent class. This means that the child class has access to all of the attributes and behaviors of the parent class."
   ]
  },
  {
   "cell_type": "code",
   "execution_count": 19,
   "id": "c1399bf6",
   "metadata": {},
   "outputs": [],
   "source": [
    "class Animal:\n",
    "    def __init__(self,name):\n",
    "        self.name=name\n",
    "    \n",
    "    def animal_sound(self):\n",
    "        return \"Animals makes different sound \"\n",
    "    def animal_color(self):\n",
    "        return \"Animals have some color \"\n",
    "    \n",
    "class Dog(Animal):\n",
    "         pass"
   ]
  },
  {
   "cell_type": "code",
   "execution_count": 16,
   "id": "8072c2e9",
   "metadata": {},
   "outputs": [],
   "source": [
    "obj=Dog(\"Sandy\")"
   ]
  },
  {
   "cell_type": "code",
   "execution_count": 20,
   "id": "b404623f",
   "metadata": {},
   "outputs": [
    {
     "data": {
      "text/plain": [
       "'Animals makes different sound '"
      ]
     },
     "execution_count": 20,
     "metadata": {},
     "output_type": "execute_result"
    }
   ],
   "source": [
    "obj.animal_sound()"
   ]
  },
  {
   "cell_type": "code",
   "execution_count": 21,
   "id": "a2fc0471",
   "metadata": {},
   "outputs": [
    {
     "data": {
      "text/plain": [
       "'Animals have some color '"
      ]
     },
     "execution_count": 21,
     "metadata": {},
     "output_type": "execute_result"
    }
   ],
   "source": [
    "obj.animal_color()"
   ]
  },
  {
   "cell_type": "markdown",
   "id": "da9de0a6",
   "metadata": {},
   "source": [
    "2.Multiple Inheritance: Multiple inheritance is when a class inherits from more than one parent class. This can lead to ambiguity if both parent classes have a method or attribute with the same name."
   ]
  },
  {
   "cell_type": "code",
   "execution_count": 24,
   "id": "10747d58",
   "metadata": {},
   "outputs": [],
   "source": [
    "class A:\n",
    "    def classA(self):\n",
    "        return \"This is a method of class A\"\n",
    "class B:\n",
    "    def classB(self):\n",
    "        return \"This is a method of class B\"\n",
    "class C (A,B):\n",
    "    pass"
   ]
  },
  {
   "cell_type": "code",
   "execution_count": 25,
   "id": "13c439ee",
   "metadata": {},
   "outputs": [],
   "source": [
    "obj=C()"
   ]
  },
  {
   "cell_type": "code",
   "execution_count": 27,
   "id": "eb93fd38",
   "metadata": {},
   "outputs": [
    {
     "data": {
      "text/plain": [
       "'This is a method of class A'"
      ]
     },
     "execution_count": 27,
     "metadata": {},
     "output_type": "execute_result"
    }
   ],
   "source": [
    "obj.classA()"
   ]
  },
  {
   "cell_type": "code",
   "execution_count": 28,
   "id": "aafe876e",
   "metadata": {},
   "outputs": [
    {
     "data": {
      "text/plain": [
       "'This is a method of class B'"
      ]
     },
     "execution_count": 28,
     "metadata": {},
     "output_type": "execute_result"
    }
   ],
   "source": [
    "obj.classB()"
   ]
  },
  {
   "cell_type": "markdown",
   "id": "e5e89cb6",
   "metadata": {},
   "source": [
    "3.Multi-Level Inheritance: Multi-level inheritance is when a class inherits from a parent class, which in turn inherits from another parent class. This creates a chain of inheritance, where the child class has access to all of the attributes and behaviors of its parent class, as well as its grandparent class."
   ]
  },
  {
   "cell_type": "code",
   "execution_count": 40,
   "id": "39a87714",
   "metadata": {},
   "outputs": [],
   "source": [
    "class A:\n",
    "    def classA(self):\n",
    "        return \"This is a method of class A\"\n",
    "class B(A):\n",
    "    def classB(self):\n",
    "        return \"This is a method of class B\"\n",
    "class C(B):\n",
    "    pass"
   ]
  },
  {
   "cell_type": "code",
   "execution_count": 41,
   "id": "e3874519",
   "metadata": {},
   "outputs": [],
   "source": [
    "obj=C()"
   ]
  },
  {
   "cell_type": "code",
   "execution_count": 42,
   "id": "dd0dab58",
   "metadata": {},
   "outputs": [
    {
     "data": {
      "text/plain": [
       "'This is a method of class A'"
      ]
     },
     "execution_count": 42,
     "metadata": {},
     "output_type": "execute_result"
    }
   ],
   "source": [
    "obj.classA()"
   ]
  }
 ],
 "metadata": {
  "kernelspec": {
   "display_name": "Python 3 (ipykernel)",
   "language": "python",
   "name": "python3"
  },
  "language_info": {
   "codemirror_mode": {
    "name": "ipython",
    "version": 3
   },
   "file_extension": ".py",
   "mimetype": "text/x-python",
   "name": "python",
   "nbconvert_exporter": "python",
   "pygments_lexer": "ipython3",
   "version": "3.9.7"
  }
 },
 "nbformat": 4,
 "nbformat_minor": 5
}
