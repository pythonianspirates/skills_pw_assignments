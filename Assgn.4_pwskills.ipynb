{
 "cells": [
  {
   "cell_type": "markdown",
   "id": "734eb4c9",
   "metadata": {},
   "source": [
    "#### Ques.1-Which keyword is used to create a function? Create a function to return a list of odd numbers in the range of 1 to 25."
   ]
  },
  {
   "cell_type": "code",
   "execution_count": 13,
   "id": "c070a0d4",
   "metadata": {},
   "outputs": [
    {
     "name": "stdout",
     "output_type": "stream",
     "text": [
      "Odd no.s in the range 1 to 25 is : [1, 3, 5, 7, 9, 11, 13, 15, 17, 19, 21, 23, 25]\n"
     ]
    }
   ],
   "source": [
    "# def keyword is used to create a function.\n",
    "\n",
    "def odd_num(n):\n",
    "    l=[]\n",
    "    for i in range(1,n+1):\n",
    "        if i%2!=0:\n",
    "            l.append(i)\n",
    "    return l\n",
    "print(f'Odd no.s in the range 1 to 25 is : {odd_num(25)}')"
   ]
  },
  {
   "cell_type": "markdown",
   "id": "7f3434b3",
   "metadata": {},
   "source": [
    "#### Ques.2-  Why *args and kwargs is used in some functions? Create a function each for \"args and kwargs to demonstrate their use."
   ]
  },
  {
   "cell_type": "code",
   "execution_count": 14,
   "id": "e77815b0",
   "metadata": {},
   "outputs": [
    {
     "name": "stdout",
     "output_type": "stream",
     "text": [
      "Example of function using *args\n",
      "1\n",
      "2\n",
      "3\n",
      "Example of function using **kwargs\n",
      "name = Anup\n",
      "age = 22\n"
     ]
    }
   ],
   "source": [
    "# *args allows us to pass a variable number of non-keyworded arguments to a function. They are passed to the function as a tuple.\n",
    "# Here's an example function that uses *args:\n",
    "\n",
    "def print_args(*args):\n",
    "    for arg in args:\n",
    "        print(arg)\n",
    "print('Example of function using *args')\n",
    "print_args(1, 2, 3)\n",
    "\n",
    "\n",
    "# **kwargs allows you to pass a keyworded, variable length argument list. The keyworded arguments are passed to the function as a dictionary.\n",
    "# Here's an example function that uses **kwargs:\n",
    "\n",
    "def print_kwargs(**kwargs):\n",
    "    for key, value in kwargs.items():\n",
    "        print(f\"{key} = {value}\")\n",
    "\n",
    "print('Example of function using **kwargs')\n",
    "print_kwargs(name=\"Anup\", age=22)"
   ]
  },
  {
   "cell_type": "markdown",
   "id": "f804b421",
   "metadata": {},
   "source": [
    "#### Ques.3- What is an iterator in python? Name the method used to initialise the iterator object and the method used for iteration. Use these methods to print the first five elements of the given list [2, 4, 6, 8, 10, 12, 14, 16, 18, 20]."
   ]
  },
  {
   "cell_type": "code",
   "execution_count": 2,
   "id": "c04e167a",
   "metadata": {},
   "outputs": [
    {
     "name": "stdout",
     "output_type": "stream",
     "text": [
      "2\n",
      "4\n",
      "6\n",
      "8\n",
      "10\n"
     ]
    }
   ],
   "source": [
    "# In Python, an iterator is an object that implements the iterator protocol, which consists of the methods __iter__() and __next__().\n",
    "# An object is called iterable if it can return an iterator.\n",
    "\n",
    "l=[2,4,6,8,10,12,14,16,18,20]\n",
    "s=iter(l)\n",
    "print(next(s))\n",
    "print(next(s))\n",
    "print(next(s))\n",
    "print(next(s))\n",
    "print(next(s))\n"
   ]
  },
  {
   "cell_type": "markdown",
   "id": "977cc78d",
   "metadata": {},
   "source": [
    "#### Ques.4 - What is a generator function in python? Why yield keyword is used? Give an example of a generator function."
   ]
  },
  {
   "cell_type": "code",
   "execution_count": 17,
   "id": "a7a5659b",
   "metadata": {
    "scrolled": true
   },
   "outputs": [
    {
     "name": "stdout",
     "output_type": "stream",
     "text": [
      "Fibonacci series upto 10 terms : [0, 1, 1, 2, 3, 5, 8, 13, 21, 34]\n"
     ]
    }
   ],
   "source": [
    "'''A generator function in Python is a special type of function that allows you to generate an iterator.\n",
    "   The key difference between a generator function and a normal function is the use of the \"yield\" keyword. \n",
    "   When a function encounters the \"yield\" keyword, it temporarily suspends its execution and returns the generated value to the caller, instead of returning a single final value like a normal function.'''\n",
    "   \n",
    "''''The yield keyword is used in a generator function to produce a value, and the generator function suspends its execution until the next value is requested.\n",
    "    This allows you to produce values one at a time, instead of generating all the values at once and consuming a large amount of memory.\n",
    "    This is useful when you want to produce a large sequence of values, but don't want to store them all in memory.'''\n",
    "\n",
    "def fibonacci(n):\n",
    "    a,b=0,1\n",
    "    for i in range(n):\n",
    "        yield a\n",
    "        a,b=b,a+b\n",
    "n=10       \n",
    "fib=list(fibonacci(10))\n",
    "print(f'Fibonacci series upto {n} terms : {fib}')"
   ]
  },
  {
   "cell_type": "markdown",
   "id": "4049d3c7",
   "metadata": {},
   "source": [
    "#### Ques.5 -  Create a generator function for prime numbers less than 1000. Use the next() method to print the first 20 prime numbers."
   ]
  },
  {
   "cell_type": "code",
   "execution_count": null,
   "id": "d407e362",
   "metadata": {},
   "outputs": [],
   "source": [
    "def prime(n):\n",
    "    primes=[]\n",
    "    for i in range(2,n):\n",
    "        for prime in primes:\n",
    "            if i%prime ==0:\n",
    "                break\n",
    "        else:\n",
    "            primes.append(i)\n",
    "            yield i\n",
    "            \n",
    "prime_no=prime(1000)\n",
    "sl = 1\n",
    "print(f\"{sl}th prime no {next(prime_no)}\")\n",
    "sl += 1\n",
    "print(f\"{sl}th prime no {next(prime_no)}\")\n",
    "sl += 1\n",
    "print(f\"{sl}th prime no {next(prime_no)}\")\n",
    "sl += 1\n",
    "print(f\"{sl}th prime no {next(prime_no)}\")\n",
    "sl += 1\n",
    "print(f\"{sl}th prime no {next(prime_no)}\")\n",
    "sl += 1\n",
    "print(f\"{sl}th prime no {next(prime_no)}\")\n",
    "sl += 1\n",
    "print(f\"{sl}th prime no {next(prime_no)}\")\n",
    "sl += 1\n",
    "print(f\"{sl}th prime no {next(prime_no)}\")\n",
    "sl += 1\n",
    "print(f\"{sl}th prime no {next(prime_no)}\")\n",
    "sl += 1\n",
    "print(f\"{sl}th prime no {next(prime_no)}\")\n",
    "sl += 1\n",
    "print(f\"{sl}th prime no {next(prime_no)}\")\n",
    "sl += 1\n",
    "print(f\"{sl}th prime no {next(prime_no)}\")\n",
    "sl += 1\n",
    "print(f\"{sl}th prime no {next(prime_no)}\")\n",
    "sl += 1\n",
    "print(f\"{sl}th prime no {next(prime_no)}\")\n",
    "sl += 1\n",
    "print(f\"{sl}th prime no {next(prime_no)}\")\n",
    "sl += 1\n",
    "print(f\"{sl}th prime no {next(prime_no)}\")\n",
    "sl += 1\n",
    "print(f\"{sl}th prime no {next(prime_no)}\")\n",
    "sl += 1\n",
    "print(f\"{sl}th prime no {next(prime_no)}\")\n",
    "sl += 1\n",
    "print(f\"{sl}th prime no {next(prime_no)}\")\n",
    "sl += 1\n",
    "print(f\"{sl}th prime no {next(prime_no)}\")\n",
    "sl += 1"
   ]
  },
  {
   "cell_type": "markdown",
   "id": "cdd8aa8f",
   "metadata": {},
   "source": [
    "#### Ques.6 -Write a python program to print the first 10 Fibonacci numbers using a while loop."
   ]
  },
  {
   "cell_type": "code",
   "execution_count": 6,
   "id": "57e9a910",
   "metadata": {},
   "outputs": [
    {
     "name": "stdout",
     "output_type": "stream",
     "text": [
      "First 10 Fibonacci numbers:  [0, 1, 1, 2, 3, 5, 8, 13, 21, 34]\n"
     ]
    }
   ],
   "source": [
    "def fib(num):\n",
    "    a,b=0,1\n",
    "    count=1\n",
    "    while count<=num:\n",
    "        yield a\n",
    "        c=a+b\n",
    "        a=b\n",
    "        b=c\n",
    "        count+=1\n",
    "        \n",
    "fibon=list(fib(10))\n",
    "print(\"First 10 Fibonacci numbers: \",fibon)"
   ]
  },
  {
   "cell_type": "markdown",
   "id": "ce6f579c",
   "metadata": {},
   "source": [
    "#### Ques.7 - Write a List Comprehension to iterate through         the given string: 'pwskills'. Expected output: ['p', 'w', 's',           'k', 'i', 'l', 'l', 's']"
   ]
  },
  {
   "cell_type": "code",
   "execution_count": 7,
   "id": "e077d705",
   "metadata": {},
   "outputs": [
    {
     "data": {
      "text/plain": [
       "['p', 'w', 's', 'k', 'i', 'l', 'l', 's']"
      ]
     },
     "execution_count": 7,
     "metadata": {},
     "output_type": "execute_result"
    }
   ],
   "source": [
    "s='pwskills'\n",
    "[i for i in s]"
   ]
  },
  {
   "cell_type": "markdown",
   "id": "d0e49ec0",
   "metadata": {},
   "source": [
    "#### Ques.8- Write a python program to check whether a given number is Palindrome or not using a while loop."
   ]
  },
  {
   "cell_type": "code",
   "execution_count": 22,
   "id": "bd37d3d7",
   "metadata": {},
   "outputs": [
    {
     "name": "stdout",
     "output_type": "stream",
     "text": [
      "Enter a number: 141\n",
      "141 is a palindrome.\n"
     ]
    }
   ],
   "source": [
    "def check_pal(num):\n",
    "    orig=num\n",
    "    rev=0\n",
    "    count=1\n",
    "    while num>0:\n",
    "        digit=num%10\n",
    "        rev=rev*10 + digit\n",
    "        num=num//10\n",
    "        count+=1\n",
    "    return orig==rev\n",
    "num = int(input(\"Enter a number: \"))\n",
    "if check_pal(num):\n",
    "    print(f\"{num} is a palindrome.\")\n",
    "else:\n",
    "    print(f\"{num} is not a palindrome.\")"
   ]
  },
  {
   "cell_type": "markdown",
   "id": "b016cfca",
   "metadata": {},
   "source": [
    "#### Ques.9 -Write a code to print odd numbers from 1 to 100 using list comprehension."
   ]
  },
  {
   "cell_type": "code",
   "execution_count": 24,
   "id": "c36ba086",
   "metadata": {},
   "outputs": [
    {
     "data": {
      "text/plain": [
       "[1,\n",
       " 3,\n",
       " 5,\n",
       " 7,\n",
       " 9,\n",
       " 11,\n",
       " 13,\n",
       " 15,\n",
       " 17,\n",
       " 19,\n",
       " 21,\n",
       " 23,\n",
       " 25,\n",
       " 27,\n",
       " 29,\n",
       " 31,\n",
       " 33,\n",
       " 35,\n",
       " 37,\n",
       " 39,\n",
       " 41,\n",
       " 43,\n",
       " 45,\n",
       " 47,\n",
       " 49,\n",
       " 51,\n",
       " 53,\n",
       " 55,\n",
       " 57,\n",
       " 59,\n",
       " 61,\n",
       " 63,\n",
       " 65,\n",
       " 67,\n",
       " 69,\n",
       " 71,\n",
       " 73,\n",
       " 75,\n",
       " 77,\n",
       " 79,\n",
       " 81,\n",
       " 83,\n",
       " 85,\n",
       " 87,\n",
       " 89,\n",
       " 91,\n",
       " 93,\n",
       " 95,\n",
       " 97,\n",
       " 99]"
      ]
     },
     "execution_count": 24,
     "metadata": {},
     "output_type": "execute_result"
    }
   ],
   "source": [
    "[i for i in range(1,101) if i%2!=0]"
   ]
  },
  {
   "cell_type": "code",
   "execution_count": null,
   "id": "4784a9a0",
   "metadata": {},
   "outputs": [],
   "source": []
  }
 ],
 "metadata": {
  "kernelspec": {
   "display_name": "Python 3 (ipykernel)",
   "language": "python",
   "name": "python3"
  },
  "language_info": {
   "codemirror_mode": {
    "name": "ipython",
    "version": 3
   },
   "file_extension": ".py",
   "mimetype": "text/x-python",
   "name": "python",
   "nbconvert_exporter": "python",
   "pygments_lexer": "ipython3",
   "version": "3.9.7"
  }
 },
 "nbformat": 4,
 "nbformat_minor": 5
}
