{
 "cells": [
  {
   "cell_type": "markdown",
   "id": "bab3f056",
   "metadata": {},
   "source": [
    "#### Ques.1 -  Write a program to accept percentage from the user and display the grade according to the following criteria:\t "
   ]
  },
  {
   "cell_type": "code",
   "execution_count": 3,
   "id": "67c491cf",
   "metadata": {},
   "outputs": [
    {
     "name": "stdout",
     "output_type": "stream",
     "text": [
      "Enter your Marks : 98\n",
      "Passed with Grade A\n"
     ]
    }
   ],
   "source": [
    "marks=int(input(\"Enter your Marks : \"))\n",
    "if marks>90:\n",
    "    print(\"Passed with Grade A\")\n",
    "elif marks>80 and marks<=90:\n",
    "    print(\"Passed with Grade B\")\n",
    "elif marks>=60 and marks<=80:\n",
    "    print(\"Passed with Grade C\")\n",
    "else:\n",
    "    print(\"Passed with Grade D\")"
   ]
  },
  {
   "cell_type": "markdown",
   "id": "324abaa4",
   "metadata": {},
   "source": [
    "#### Ques.2 - Write a program to accept the cost price of a bike and display the road ta x to be paid according to the following criteria :"
   ]
  },
  {
   "cell_type": "code",
   "execution_count": 6,
   "id": "34a23e54",
   "metadata": {},
   "outputs": [
    {
     "name": "stdout",
     "output_type": "stream",
     "text": [
      "Enter the cost price of Bike : 765584\n",
      "15% road tax to be paid\n"
     ]
    }
   ],
   "source": [
    "cost_price=int(input(\"Enter the cost price of Bike : \"))\n",
    "if cost_price>100000:\n",
    "    print(\"15% road tax to be paid\")\n",
    "elif cost_price>50000 and cost_price<=100000:\n",
    "    print(\"10% road tax to be paid\")\n",
    "else:\n",
    "    print(\"5% road tax to be paid\")"
   ]
  },
  {
   "cell_type": "markdown",
   "id": "57740b87",
   "metadata": {},
   "source": [
    "#### Ques.3 - Accept any city from the user and display monuments of that city."
   ]
  },
  {
   "cell_type": "code",
   "execution_count": 9,
   "id": "21f76469",
   "metadata": {},
   "outputs": [
    {
     "name": "stdout",
     "output_type": "stream",
     "text": [
      "Enter your city name : Agra\n",
      "Monument present there is Taj Mahal\n"
     ]
    }
   ],
   "source": [
    "city=(input(\"Enter your city name : \"))\n",
    "if city=='Delhi':\n",
    "    print(\"Monument present there is Red Fort\")\n",
    "elif city=='Agra':\n",
    "    print(\"Monument present there is Taj Mahal\")\n",
    "elif city=='Jaipur':\n",
    "    print(\"Monument present there is Jal Mahal\")\n",
    "else:\n",
    "    print(\"Enter a valid city\")"
   ]
  },
  {
   "cell_type": "markdown",
   "id": "932da501",
   "metadata": {},
   "source": [
    "#### Ques.4- Check how many times a given number can be divided by 3 before it is less than or equal to 10."
   ]
  },
  {
   "cell_type": "code",
   "execution_count": 13,
   "id": "3be39010",
   "metadata": {},
   "outputs": [
    {
     "name": "stdout",
     "output_type": "stream",
     "text": [
      "Enter your Number : 90\n",
      "3\n"
     ]
    }
   ],
   "source": [
    "number=int(input(\"Enter your Number : \"))\n",
    "count = 0\n",
    "while number>=10:\n",
    "    number/=3\n",
    "    count+=1\n",
    "print(count)\n"
   ]
  },
  {
   "cell_type": "markdown",
   "id": "ea1e75ad",
   "metadata": {},
   "source": [
    "#### Ques.5 - Why and When to use while loop in Python give a detailed description with example."
   ]
  },
  {
   "cell_type": "code",
   "execution_count": null,
   "id": "ffa46235",
   "metadata": {},
   "outputs": [],
   "source": [
    "## The while loop in Python is used to repeatedly execute a block of code as long as a given condition is true. The condition is evaluated before each iteration, and the loop continues to run until the condition becomes false.\n",
    "## A while loop is useful when you don't know beforehand how many times you need to repeat a certain task. For example, you may want to keep prompting a user for input until they provide a valid response. Here's an example:\"\"\"\n",
    "\n",
    "response = None\n",
    "while response != 'yes':\n",
    "    response = input(\"Do you want to continue? (yes/no): \")\n",
    "    \n",
    "#In this example, the loop continues to run as long as the user's response is not \"yes\". Once the user enters \"yes\", the loop terminates and the program continues with the next line of code.\n"
   ]
  },
  {
   "cell_type": "markdown",
   "id": "c86d3d34",
   "metadata": {},
   "source": [
    "#### Ques.6 - Use nested while loop to print 3 different pattern."
   ]
  },
  {
   "cell_type": "code",
   "execution_count": 14,
   "id": "38f097c5",
   "metadata": {},
   "outputs": [
    {
     "name": "stdout",
     "output_type": "stream",
     "text": [
      "Pyramid Pattern Below \n",
      "*\n",
      "**\n",
      "***\n",
      "****\n",
      "*****\n",
      "Reverse Pyramid Pattern Below \n",
      "*****\n",
      "****\n",
      "***\n",
      "**\n",
      "*\n",
      "Diamond Pattern Below \n",
      "    *    \n",
      "   ***   \n",
      "  *****  \n",
      " ******* \n",
      "*********\n",
      " ******* \n",
      "  *****  \n",
      "   ***   \n",
      "    *    \n"
     ]
    }
   ],
   "source": [
    "## Here are three different patterns that can be printed using nested while loops in Python:\n",
    "\n",
    "# 1.Pyramid Pattern\n",
    "print(\"Pyramid Pattern Below \")\n",
    "\n",
    "rows = 5\n",
    "for i in range(1, rows + 1):\n",
    "    for j in range(1, i + 1):\n",
    "        print(\"*\", end=\"\")\n",
    "    print(\"\")\n",
    "\n",
    "# 2.Pyramid Pattern\n",
    "print(\"Reverse Pyramid Pattern Below \")\n",
    "\n",
    "rows = 5\n",
    "for i in range(rows, 0, -1):\n",
    "    for j in range(0, i):\n",
    "        print(\"*\", end=\"\")\n",
    "    print(\"\")\n",
    "\n",
    "# 2.Pyramid Pattern\n",
    "print(\"Diamond Pattern Below \")\n",
    "\n",
    "rows = 5\n",
    "for i in range(1, rows * 2):\n",
    "    for j in range(1, rows * 2):\n",
    "        if i > rows:\n",
    "            k = rows * 2 - i\n",
    "        else:\n",
    "            k = i\n",
    "        if j >= rows + 1 - k and j <= rows - 1 + k:\n",
    "            print(\"*\", end=\"\")\n",
    "        else:\n",
    "            print(\" \", end=\"\")\n",
    "    print(\"\")\n"
   ]
  },
  {
   "cell_type": "markdown",
   "id": "1c7882ba",
   "metadata": {},
   "source": [
    "#### Ques.7 - Reverse a while loop to display numbers from 10 to 1."
   ]
  },
  {
   "cell_type": "code",
   "execution_count": 2,
   "id": "694d3c57",
   "metadata": {},
   "outputs": [
    {
     "name": "stdout",
     "output_type": "stream",
     "text": [
      "Enter the value of n : 10\n",
      "10\n",
      "9\n",
      "8\n",
      "7\n",
      "6\n",
      "5\n",
      "4\n",
      "3\n",
      "2\n",
      "1\n"
     ]
    }
   ],
   "source": [
    "n=int(input(\"Enter the value of n : \"))\n",
    "count=n\n",
    "while count>0:\n",
    "    print(count)\n",
    "    count-=1\n",
    "    "
   ]
  },
  {
   "cell_type": "markdown",
   "id": "ec1531cf",
   "metadata": {},
   "source": [
    "#### Ques.8 - Reverse a for loop to display numbers from 10 to 1."
   ]
  },
  {
   "cell_type": "code",
   "execution_count": 1,
   "id": "5d828575",
   "metadata": {},
   "outputs": [
    {
     "name": "stdout",
     "output_type": "stream",
     "text": [
      "Enter the value of n : 10\n",
      "10\n",
      "9\n",
      "8\n",
      "7\n",
      "6\n",
      "5\n",
      "4\n",
      "3\n",
      "2\n",
      "1\n"
     ]
    }
   ],
   "source": [
    "n=int(input(\"Enter the value of n : \"))\n",
    "for i in range(n,0,-1):\n",
    "    print(i)"
   ]
  }
 ],
 "metadata": {
  "kernelspec": {
   "display_name": "Python 3 (ipykernel)",
   "language": "python",
   "name": "python3"
  },
  "language_info": {
   "codemirror_mode": {
    "name": "ipython",
    "version": 3
   },
   "file_extension": ".py",
   "mimetype": "text/x-python",
   "name": "python",
   "nbconvert_exporter": "python",
   "pygments_lexer": "ipython3",
   "version": "3.9.7"
  }
 },
 "nbformat": 4,
 "nbformat_minor": 5
}
