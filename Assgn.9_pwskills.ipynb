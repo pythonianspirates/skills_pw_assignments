{
 "cells": [
  {
   "cell_type": "markdown",
   "id": "155b6dbc",
   "metadata": {},
   "source": [
    "#### Ques.1 -Q1. What is Abstraction in OOps? Explain with an example."
   ]
  },
  {
   "cell_type": "markdown",
   "id": "79a4d90d",
   "metadata": {},
   "source": [
    "Abstraction in Object-Oriented Programming (OOP) is a concept that allows us to focus on the essential features of an object while ignoring its irrelevant details. It is a way to manage complexity and make code more flexible and maintainable.\n",
    "\n",
    "Abstraction is achieved by hiding the implementation details of an object and exposing only the necessary information to the users. This is typically done by defining abstract classes or interfaces that provide a set of methods that must be implemented by their concrete subclasses.\n",
    "\n",
    "For example, let's say we are designing a banking application. We might have a BankAccount class that represents a customer's bank account. The BankAccount class could have several methods, such as deposit(), withdraw(), and getBalance(). However, we don't need to expose the details of how these methods are implemented. Instead, we can create an abstract class or interface called Account that defines these methods without providing their implementation details. The concrete classes such as SavingsAccount or CheckingAccount can then implement these methods according to their specific requirements."
   ]
  },
  {
   "cell_type": "markdown",
   "id": "29cbdf50",
   "metadata": {},
   "source": [
    "#### Ques.2 - Differentiate between Abstraction and Encapsulation. Explain with an example."
   ]
  },
  {
   "cell_type": "markdown",
   "id": "47fb51b6",
   "metadata": {},
   "source": [
    "Abstraction and Encapsulation are two fundamental concepts of Object-Oriented Programming.\n",
    "\n",
    "Abstraction is the process of hiding complex implementation details and exposing only the necessary information to the users. It is achieved through the use of abstract classes and interfaces.\n",
    "\n",
    "Encapsulation is the process of wrapping data and methods into a single unit called a class, and controlling access to them through access modifiers such as public, private, and protected.\n",
    "\n",
    "The main difference between Abstraction and Encapsulation is that Abstraction focuses on the essential features of an object while ignoring its irrelevant details, while Encapsulation provides a way to protect the data and methods of a class from external interference, and to enforce data integrity and consistency.\n",
    "\n",
    "An example of Encapsulation is a BankAccount class that has private data members and public methods to access them, while an example of Abstraction is an Account interface that defines the common properties and behaviors of all bank accounts, with each account type providing its own implementation for these methods."
   ]
  },
  {
   "cell_type": "markdown",
   "id": "1ffe41b7",
   "metadata": {},
   "source": [
    "#### Ques.3 - What is abc module in python? Why is it used?"
   ]
  },
  {
   "cell_type": "markdown",
   "id": "2285b144",
   "metadata": {},
   "source": [
    "The abc module in Python stands for \"Abstract Base Classes\". It is a built-in module that provides a way to define abstract classes in Python. An abstract class is a class that cannot be instantiated, but only serves as a blueprint for other classes to inherit from. Abstract classes can define a set of methods that must be implemented by its subclasses, but can also provide default implementations for some of these methods.\n",
    "\n",
    "The abc module is used to define abstract classes and abstract methods in Python. It provides a way to enforce a certain interface or behavior across multiple classes, without requiring them to have the same implementation details.\n",
    "\n",
    "The main purpose of using abc module in Python is to ensure that the derived classes implement certain methods or follow certain protocols. By defining an abstract class, you can guarantee that any subclass will implement the methods defined in the abstract class. This makes the code more robust and maintainable, as it enforces a certain contract between the classes."
   ]
  },
  {
   "cell_type": "markdown",
   "id": "c61fe01e",
   "metadata": {},
   "source": [
    "#### Ques.4 - How can we achieve data abstraction?"
   ]
  },
  {
   "cell_type": "markdown",
   "id": "caf2d9d9",
   "metadata": {},
   "source": [
    "In Object-Oriented Programming (OOP), data abstraction is achieved by using abstract classes and interfaces. Abstract classes are classes that cannot be instantiated and are used to define a blueprint for other classes to inherit from. Interfaces, on the other hand, are a collection of abstract methods that define a set of behaviors that a class must implement.\n",
    "\n",
    "Data abstraction allows us to hide the complexity of the implementation details of a class and only expose the necessary information to the users of that class. It helps to make the code more modular, extensible, and easier to maintain.\n",
    "\n",
    "Here are the steps to achieve data abstraction in OOP:\n",
    "\n",
    "1. Identify the essential features of the class: Determine      the attributes and methods that are necessary for the        class to perform its function.\n",
    "\n",
    "2. Create an abstract class or interface: Define an abstract    class or interface that contains the essential features      of the class.\n",
    "\n",
    "3. Define abstract methods: Declare abstract methods that      represent the behaviors of the class.\n",
    "\n",
    "4. Implement concrete subclasses: Create concrete subclasses    that inherit from the abstract class or implement the        interface.\n",
    "\n",
    "5. Override abstract methods: Implement the abstract methods    in the concrete subclasses.\n",
    "\n",
    "6. Use the concrete subclasses: Instantiate the concrete        subclasses and use their methods to perform specific        tasks."
   ]
  },
  {
   "cell_type": "markdown",
   "id": "ad550ef3",
   "metadata": {},
   "source": [
    "#### Ques.5 - Can we create an instance of an abstract class? Explain your answer."
   ]
  },
  {
   "cell_type": "markdown",
   "id": "d416dbee",
   "metadata": {},
   "source": [
    "No, we cannot create an instance of an abstract class in Python. An abstract class is a class that is only meant to be used as a base class for other classes to inherit from. It cannot be instantiated directly because it is incomplete and lacks certain necessary implementations.\n",
    "\n",
    "An abstract class may contain abstract methods, which are defined but not implemented in the abstract class itself. These methods are meant to be implemented by the subclasses that inherit from the abstract class. Because of this, we cannot create an instance of an abstract class that has abstract methods that are not implemented.\n",
    "\n",
    "Attempting to create an instance of an abstract class in Python will result in a 'TypeError'."
   ]
  }
 ],
 "metadata": {
  "kernelspec": {
   "display_name": "Python 3 (ipykernel)",
   "language": "python",
   "name": "python3"
  },
  "language_info": {
   "codemirror_mode": {
    "name": "ipython",
    "version": 3
   },
   "file_extension": ".py",
   "mimetype": "text/x-python",
   "name": "python",
   "nbconvert_exporter": "python",
   "pygments_lexer": "ipython3",
   "version": "3.9.7"
  }
 },
 "nbformat": 4,
 "nbformat_minor": 5
}
