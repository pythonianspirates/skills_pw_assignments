{
 "cells": [
  {
   "cell_type": "markdown",
   "id": "baf76661",
   "metadata": {},
   "source": [
    "#### Ques.1 - Create a vehicle class with an init method having instance variables as name_of_vehicle, max_speed and average_of_vehicle."
   ]
  },
  {
   "cell_type": "code",
   "execution_count": 1,
   "id": "47c27056",
   "metadata": {},
   "outputs": [],
   "source": [
    "class vehicle:\n",
    "    def __init__(self,name_of_vehicle,max_speed,average_of_vehicle):\n",
    "        self.name_of_vehicle = name_of_vehicle\n",
    "        self.max_speed = max_speed\n",
    "        self.average_of_vehicle = average_of_vehicle"
   ]
  },
  {
   "cell_type": "markdown",
   "id": "68449285",
   "metadata": {},
   "source": [
    "#### Ques.2 - Create a child class car from the vehicle class created in Q1, which will inherit the vehicle class. Create a method named seating_capacity which takes capacity as an argument and returns the name of the vehicle and its seating capacity."
   ]
  },
  {
   "cell_type": "code",
   "execution_count": 6,
   "id": "90636127",
   "metadata": {},
   "outputs": [
    {
     "data": {
      "text/plain": [
       "('Rolls Royce', 4)"
      ]
     },
     "execution_count": 6,
     "metadata": {},
     "output_type": "execute_result"
    }
   ],
   "source": [
    "class vehicle:\n",
    "    def __init__(self,name_of_vehicle,max_speed,average_of_vehicle):\n",
    "        self.name_of_vehicle = name_of_vehicle\n",
    "        self.max_speed = max_speed\n",
    "        self.average_of_vehicle = average_of_vehicle\n",
    "        \n",
    "class car(vehicle):\n",
    "    def seating_capacity(self,capacity):\n",
    "        self.capacity = capacity\n",
    "        return self.name_of_vehicle,self.capacity\n",
    "    \n",
    "new_car =car(\"Rolls Royce\",420,30)\n",
    "new_car.seating_capacity(4)"
   ]
  },
  {
   "cell_type": "markdown",
   "id": "2b26c129",
   "metadata": {},
   "source": [
    "#### Ques.3 - What is multiple inheritance? Write a python code to demonstrate multiple inheritance."
   ]
  },
  {
   "cell_type": "markdown",
   "id": "083eb9cb",
   "metadata": {},
   "source": [
    "Multiple inheritance is a feature of object-oriented programming languages that allows a class to inherit properties and behavior from multiple parent classes. In other words, a subclass can have more than one direct superclass.\n",
    "\n",
    "This means that the subclass inherits all the methods and attributes from all of its parent classes, allowing for more flexibility and code reuse in object-oriented programming."
   ]
  },
  {
   "cell_type": "code",
   "execution_count": 4,
   "id": "ba757bc6",
   "metadata": {},
   "outputs": [
    {
     "name": "stdout",
     "output_type": "stream",
     "text": [
      "I can climb\n",
      "I can Run\n"
     ]
    }
   ],
   "source": [
    "class Monkey:\n",
    "    def climb(self):\n",
    "        print(\"I can climb\")\n",
    "\n",
    "class Horse:\n",
    "    def run(self):\n",
    "        print(\"I can Run\")\n",
    "        \n",
    "class Human(Monkey,Horse):\n",
    "    def __init__(self,name):\n",
    "        self.name = name\n",
    "        \n",
    "new = Human(\"Hanuman\")\n",
    "new.climb()\n",
    "new.run()\n"
   ]
  },
  {
   "cell_type": "markdown",
   "id": "01599207",
   "metadata": {},
   "source": [
    "#### Ques.4 - What are getter and setter in python? Create a class and create a getter and a setter method in this class."
   ]
  },
  {
   "cell_type": "markdown",
   "id": "414e6fc1",
   "metadata": {},
   "source": [
    "Getters and setters are methods used to retrieve and modify the value of class attributes in Python. Getters retrieve the value while setters modify the value. They are useful for controlling access to class attributes and adding validation logic."
   ]
  },
  {
   "cell_type": "code",
   "execution_count": 3,
   "id": "bb4cd9b1",
   "metadata": {},
   "outputs": [
    {
     "data": {
      "text/plain": [
       "1000"
      ]
     },
     "execution_count": 3,
     "metadata": {},
     "output_type": "execute_result"
    }
   ],
   "source": [
    "class new_balance:\n",
    "    def __init__(self,balance):\n",
    "        self.__balance = balance\n",
    "    \n",
    "    @property\n",
    "    def get_balance(self):\n",
    "        return (self.__balance)\n",
    "    \n",
    "    @get_balance.setter\n",
    "    def set_balance(self,bal):\n",
    "        self.__balance = bal\n",
    "        \n",
    "n1 = new_balance(500)\n",
    "n1.set_balance = 1000\n",
    "n1.get_balance\n",
    "        \n",
    "    "
   ]
  },
  {
   "cell_type": "markdown",
   "id": "fc52ec74",
   "metadata": {},
   "source": [
    "#### Ques.5 - What is method overriding in python? Write a python code to demonstrate method overriding."
   ]
  },
  {
   "cell_type": "markdown",
   "id": "61258cb5",
   "metadata": {},
   "source": [
    "Method overriding in Python is a feature that allows a subclass to provide its own implementation of a method that is already defined in its superclass. This means that the subclass can use the same method name as the superclass, but with a different implementation. When the method is called on an instance of the subclass, the overridden method in the subclass is executed instead of the method in the superclass. This allows for greater flexibility and customization in object-oriented programming."
   ]
  },
  {
   "cell_type": "code",
   "execution_count": 9,
   "id": "f08316b2",
   "metadata": {},
   "outputs": [
    {
     "name": "stdout",
     "output_type": "stream",
     "text": [
      "B's Mehod is called.\n"
     ]
    }
   ],
   "source": [
    "class A:\n",
    "    def check(self):\n",
    "        print(\"A's Method is called.\")\n",
    "        \n",
    "class B:\n",
    "    def check(self):\n",
    "        print(\"B's Mehod is called.\")\n",
    "        \n",
    "ob_B = B\n",
    "ob_B.check(\"\")"
   ]
  }
 ],
 "metadata": {
  "kernelspec": {
   "display_name": "Python 3 (ipykernel)",
   "language": "python",
   "name": "python3"
  },
  "language_info": {
   "codemirror_mode": {
    "name": "ipython",
    "version": 3
   },
   "file_extension": ".py",
   "mimetype": "text/x-python",
   "name": "python",
   "nbconvert_exporter": "python",
   "pygments_lexer": "ipython3",
   "version": "3.9.7"
  }
 },
 "nbformat": 4,
 "nbformat_minor": 5
}
