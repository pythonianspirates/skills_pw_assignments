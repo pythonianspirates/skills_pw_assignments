{
 "cells": [
  {
   "cell_type": "markdown",
   "id": "5ed2533d",
   "metadata": {},
   "source": [
    "## **Statistics Basic 2 - 7th March**"
   ]
  },
  {
   "cell_type": "markdown",
   "id": "e9983aa3",
   "metadata": {},
   "source": [
    "#### Ques.1 - What are the three measures of central tendency?"
   ]
  },
  {
   "cell_type": "markdown",
   "id": "c9268a50",
   "metadata": {},
   "source": [
    "The three measures of central tendency are:\n",
    "\n",
    "Certainly! Here are the three measures of central tendency explained in more detail:\n",
    "\n",
    "1.Mean:\n",
    "- The mean is calculated by summing up all the values in a data set and dividing the sum by the total number of values.\n",
    "- It is often used to represent the \"average\" value of a data set.\n",
    "- The mean is sensitive to extreme values, as it takes into account all the values in the data set.\n",
    "- It is influenced by outliers, which are values that are significantly different from the other values in the data set.\n",
    "\n",
    "2.Median:\n",
    "- The median is the middle value of a data set when it is arranged in ascending or descending order.\n",
    "- If the data set has an odd number of values, the median is simply the middle value.\n",
    "- If the data set has an even number of values, the median is the average of the two middle values.\n",
    "- The median is not affected by extreme values or outliers, as it only considers the position of values in the data set.\n",
    "- It is often used when the data set contains extreme values or when the distribution is skewed.\n",
    "\n",
    "3.Mode:\n",
    "- The mode is the value or values that occur most frequently in a data set.\n",
    "- It represents the most common value(s) in the data set.\n",
    "- A data set can have one mode (unimodal), two modes (bimodal), or more than two modes (multimodal).\n",
    "- The mode is useful for identifying the typical or dominant value(s) in the data set.\n",
    "- Unlike the mean and median, the mode can be used for both numerical and categorical data.\n",
    "\n",
    "These measures provide different perspectives on the central tendency of a data set and are used to summarize and analyze data in various fields such as statistics, research, and data analysis.\n",
    "\n",
    "\n",
    "\n",
    "\n"
   ]
  },
  {
   "cell_type": "markdown",
   "id": "fca826c3",
   "metadata": {},
   "source": [
    "### Ques.2 - What is the difference between the mean, median, and mode? How are they used to measure the central tendency of a dataset?"
   ]
  },
  {
   "cell_type": "markdown",
   "id": "e15e6de1",
   "metadata": {},
   "source": [
    "The difference between the mean, median, and mode lies in how they capture different aspects of the central tendency of a dataset:\n",
    "\n",
    "1.Mean:\n",
    "- It is the average of a dataset and is calculated by summing up all the values and dividing by the total number of values.\n",
    "- The mean takes into account every value in the dataset and is sensitive to outliers.\n",
    "- It is commonly used when the dataset has a symmetrical distribution and no significant outliers.\n",
    "2.Median:\n",
    "- The median is the middle value of a dataset when arranged in ascending or descending order.\n",
    "- It is not affected by extreme values or outliers, making it more robust in such cases.\n",
    "- The median is useful when the dataset has skewed distributions or when there are outliers present.\n",
    "3.Mode:\n",
    "- The mode represents the value(s) that occur most frequently in a dataset.\n",
    "- It is used to identify the most common value(s) or the dominant category in categorical data.\n",
    "- The mode can be helpful when dealing with categorical variables or discrete data.\n",
    "\n",
    "These measures provide different insights into the central tendency of a dataset. The mean gives an overall average, the median provides a middle value, and the mode highlights the most frequent value(s) or category. The appropriate measure to use depends on the nature of the dataset and the research or analysis objectives.\n",
    "\n",
    "\n",
    "\n",
    "\n"
   ]
  },
  {
   "cell_type": "markdown",
   "id": "13d9deee",
   "metadata": {},
   "source": [
    "### Ques.3 - Measure the three measures of central tendency for the given height data:\n",
    "###                 [178,177,176,177,178.2,178,175,179,180,175,178.9,176.2,177,172.5,178,176.5]"
   ]
  },
  {
   "cell_type": "code",
   "execution_count": 3,
   "id": "50780044",
   "metadata": {},
   "outputs": [
    {
     "name": "stdout",
     "output_type": "stream",
     "text": [
      "Mean =  177.01875\n",
      "Median =  177.0\n",
      "Mode =  ModeResult(mode=array([177.]), count=array([3]))\n"
     ]
    }
   ],
   "source": [
    "import numpy as np\n",
    "from scipy import stats\n",
    "\n",
    "ds = [178,177,176,177,178.2,178,175,179,180,\n",
    "      175,178.9,176.2,177,172.5,178,176.5]\n",
    "\n",
    "mean = np.mean(ds)\n",
    "median = np.median(ds)\n",
    "mode = stats.mode(ds)\n",
    "\n",
    "print(\"Mean = \",mean)\n",
    "print(\"Median = \",median)\n",
    "print(\"Mode = \",mode)\n"
   ]
  },
  {
   "cell_type": "markdown",
   "id": "b1b9c575",
   "metadata": {},
   "source": [
    "### Ques.4 - Find the standard deviation for the given data:\n",
    "### [178,177,176,177,178.2,178,175,179,180,175,178.9,176.2,177,172.5,178,176.5]"
   ]
  },
  {
   "cell_type": "code",
   "execution_count": 6,
   "id": "5380127d",
   "metadata": {},
   "outputs": [
    {
     "name": "stdout",
     "output_type": "stream",
     "text": [
      "Standard Deviation =  1.7885814036548633\n"
     ]
    }
   ],
   "source": [
    "import numpy as np\n",
    "\n",
    "ds = [178,177,176,177,178.2,178,175,179,180,\n",
    "      175,178.9,176.2,177,172.5,178,176.5]\n",
    "std = np.std(ds)\n",
    "\n",
    "print(\"Standard Deviation = \",std)\n"
   ]
  },
  {
   "cell_type": "markdown",
   "id": "4a47b253",
   "metadata": {},
   "source": [
    "### Ques.5 - How are measures of dispersion such as range, variance, and standard deviation used to describe the spread of a dataset? Provide an example."
   ]
  },
  {
   "cell_type": "markdown",
   "id": "5d02e1cf",
   "metadata": {},
   "source": [
    "Measures of dispersion, such as range, variance, and standard deviation, are used to describe the spread or variability of a dataset. Here's a brief explanation:\n",
    "\n",
    "**1.Range :**\n",
    "- The range is the simplest measure of dispersion, calculated by taking the difference between the largest and smallest values in a dataset.\n",
    "- It provides an estimate of the total spread of the data.\n",
    "- For example, if a dataset contains the values [10, 15, 12, 8, 20], the range would be 20 - 8 = 12.\n",
    "\n",
    "**2.Variance :**\n",
    "- Variance measures the average squared deviation of each data point from the mean.\n",
    "- It quantifies the dispersion of the dataset around the mean.\n",
    "- Variance is calculated by taking the average of the squared differences between each data point and the mean.\n",
    "- For example, if a dataset contains the values [10, 15, 12, 8, 20], and the mean is 13, the variance would be (10-13)² + (15-13)² + (12-13)² + (8-13)² + (20-13)², divided by the number of values.\n",
    "\n",
    "**3.Standard Deviation :**\n",
    "- The standard deviation is the square root of the variance.\n",
    "- It provides a measure of dispersion that is in the same unit as the original data.\n",
    "- Standard deviation helps to understand the average distance of data points from the mean.\n",
    "- Using the same example as above, after calculating the variance, taking the square root would give the standard deviation.\n",
    "\n",
    "These measures of dispersion are used to quantify how spread out the data points are from the central tendency (mean, median, etc.). They provide insights into the variability within the dataset and are useful for comparing and analyzing different datasets.\n",
    "\n",
    "\n",
    "\n",
    "\n"
   ]
  },
  {
   "cell_type": "markdown",
   "id": "7fb97050",
   "metadata": {},
   "source": [
    "### Ques.6 - What is a Venn diagram?"
   ]
  },
  {
   "cell_type": "markdown",
   "id": "ef617c12",
   "metadata": {},
   "source": [
    "A Venn diagram is a visual representation of the relationships between different sets of data or entities. Here's a brief explanation:\n",
    "\n",
    "- A Venn diagram consists of overlapping circles or shapes that represent different sets or categories.\n",
    "- Each circle represents a set, and the overlapping regions indicate the intersection between sets.\n",
    "- The diagram visually shows the shared and distinct elements among the sets.\n",
    "- It is used to illustrate the relationships, commonalities, and differences between various groups or concepts.\n",
    "- Venn diagrams are often employed in mathematics, logic, statistics, and other fields to aid in understanding set theory, logic puzzles, data analysis, and problem-solving.\n",
    "\n",
    "In summary, a Venn diagram provides a clear and intuitive visual representation of the relationships and overlaps between sets or categories, helping to analyze and compare data or concepts."
   ]
  },
  {
   "cell_type": "markdown",
   "id": "34d0e088",
   "metadata": {},
   "source": [
    "### Ques.7 -  For the two given sets:\n",
    "#### A = (2,3,4,5,6,7) & B = (0,2,6,8,10).\n",
    "#### Find: (i) A (intersection) B\n",
    "#### (ii) A ⋃ B"
   ]
  },
  {
   "cell_type": "markdown",
   "id": "890b6af9",
   "metadata": {},
   "source": [
    "- (i) A(intersection)B = Common elements present in both the set A & B                    = {2,6}\n",
    "- (ii) A U B = A(union)B = Combination of elements present in A & B = {0,2,3,4,5,6,7,8,10}                      "
   ]
  },
  {
   "cell_type": "markdown",
   "id": "0b46b63f",
   "metadata": {},
   "source": [
    "### Ques.8 - What do you understand about skewness in data?"
   ]
  },
  {
   "cell_type": "markdown",
   "id": "d1514fbf",
   "metadata": {},
   "source": [
    "Skewness in data refers to the asymmetry or lack of symmetry in its distribution. Here's a brief explanation:\n",
    "\n",
    "- Skewness measures the deviation from a symmetrical distribution, where the data points are evenly distributed on both sides of the mean.\n",
    "- Positive skewness indicates that the tail of the distribution extends more towards the right, meaning the data has a longer right tail and is skewed to the right.\n",
    "- Negative skewness indicates that the tail of the distribution extends more towards the left, meaning the data has a longer left tail and is skewed to the left.\n",
    "- Skewness is a measure of the asymmetry rather than the direction of the skew.\n",
    "- Skewness is often used to understand the shape of a distribution and can provide insights into the presence of outliers or the need for data transformations.\n",
    "\n",
    "In summary, skewness in data describes the lack of symmetry in its distribution, with positive skewness indicating a right-skewed distribution and negative skewness indicating a left-skewed distribution. It helps to identify the shape of the data distribution and provides information about the data's characteristics.\n",
    "\n",
    "\n",
    "\n",
    "\n",
    "\n"
   ]
  },
  {
   "cell_type": "markdown",
   "id": "e6a8a706",
   "metadata": {},
   "source": [
    "### Ques.9 - If a data is right skewed then what will be the position of median with respect to mean?"
   ]
  },
  {
   "cell_type": "markdown",
   "id": "12897913",
   "metadata": {},
   "source": [
    "If a data set is right-skewed, the position of the median with respect to the mean will typically be as follows:\n",
    "\n",
    "- The median will be less than the mean.\n",
    "- In a right-skewed distribution, the tail of the distribution is elongated towards the higher values.\n",
    "- As a result, the extreme values on the right side of the distribution, which contribute to the skewness, tend to pull the mean towards higher values.\n",
    "- Since the median represents the middle value of the dataset, it is less influenced by the extreme values in the right tail, and thus, tends to be smaller than the mean.\n",
    "\n",
    "In summary, in a right-skewed distribution, the median is typically smaller than the mean because the mean is influenced by the higher values in the right tail, which pull it towards larger values."
   ]
  },
  {
   "cell_type": "markdown",
   "id": "831c96a1",
   "metadata": {},
   "source": [
    "### Ques.10 - Explain the difference between covariance and correlation. How are these measures used in statistical analysis?"
   ]
  },
  {
   "cell_type": "markdown",
   "id": "bd92a085",
   "metadata": {},
   "source": [
    "Here's a brief explanation of the difference between covariance and correlation, along with their usage in statistical analysis:\n",
    "\n",
    "1.Covariance:\n",
    "\n",
    "- Covariance measures the linear relationship between two variables.\n",
    "- It indicates the direction and strength of the relationship between two variables.\n",
    "- Covariance can be positive (both variables increase or decrease together), negative (one variable increases while the other decreases), or zero (no linear relationship).\n",
    "- However, covariance does not provide a standardized measure and is dependent on the scale of the variables.\n",
    "2.Correlation:\n",
    "- Correlation is a standardized measure that quantifies the strength and direction of the linear relationship between two variables.\n",
    "- It ranges from -1 to +1, where -1 represents a perfect negative linear relationship, +1 represents a perfect positive linear relationship, and 0 indicates no linear relationship.\n",
    "- Correlation is scale-independent and provides a consistent measure of association.\n",
    "- It helps in determining the strength and direction of the relationship between variables and is widely used for data analysis, modeling, and decision-making.\n",
    "\n",
    "**Usage in Statistical Analysis:**\n",
    "\n",
    "- Covariance and correlation are used to analyze the relationship between variables in statistical analysis.\n",
    "- Covariance is utilized to determine whether two variables are moving together or in opposite directions, but it does not provide a standardized measure for comparison.\n",
    "- Correlation, on the other hand, provides a standardized measure, making it useful for comparing the strength and direction of relationships between different pairs of variables.\n",
    "- Correlation is extensively used in regression analysis, hypothesis testing, and understanding the dependency between variables in various fields such as finance, social sciences, and engineering.\n",
    "\n",
    "In summary, covariance measures the linear relationship between variables, while correlation provides a standardized measure of the strength and direction of that relationship. Correlation is more widely used due to its scale independence and consistent interpretation, making it valuable in statistical analysis and modeling.\n",
    "\n",
    "\n"
   ]
  },
  {
   "cell_type": "markdown",
   "id": "a25970cf",
   "metadata": {},
   "source": [
    "### Ques.11 - What is the formula for calculating the sample mean? Provide an example calculation for a dataset."
   ]
  },
  {
   "cell_type": "markdown",
   "id": "698880fa",
   "metadata": {},
   "source": [
    "The formula for calculating the sample mean is as follows:\n",
    "\n",
    "Sample Mean = (Sum of all values in the dataset) / (Total number of values in the dataset)\n",
    "\n",
    "Example calculation:\n",
    "\n",
    "Consider a dataset of exam scores: [85, 90, 92, 78, 87]\n",
    "\n",
    "To find the sample mean:\n",
    "\n",
    "- Step 1: Add up all the values in the dataset: 85 + 90 + 92 + 78 + 87 = 432\n",
    "- Step 2: Determine the total number of values in the dataset, which in this case is 5.\n",
    "- Step 3: Divide the sum of values by the total number of values: 432 / 5 = 86.4\n",
    "\n",
    "Therefore, the sample mean of the given dataset is 86.4."
   ]
  },
  {
   "cell_type": "markdown",
   "id": "d79aa06b",
   "metadata": {},
   "source": [
    "### Ques.12 - For a normal distribution data what is the relationship between its measure of central tendency?"
   ]
  },
  {
   "cell_type": "markdown",
   "id": "1e534f58",
   "metadata": {},
   "source": [
    "For a normal distribution:\n",
    "\n",
    "1.Mean:\n",
    "- The mean is located at the center of a normal distribution.\n",
    "- It represents the balance point of the data, where the distribution is symmetric.\n",
    "- The mean is equal to the median in a normal distribution.\n",
    "2.Median:\n",
    "- The median is also located at the center of a normal distribution.\n",
    "- It divides the data into two equal halves.\n",
    "- The median is equal to the mean in a normal distribution.\n",
    "3.Mode:\n",
    "- The mode in a normal distribution is the value with the highest frequency, which occurs at the peak of the distribution.\n",
    "- In a normal distribution, there is only one mode.\n",
    "- The mode is equal to the mean and median in a normal distribution.\n",
    "\n",
    "In summary, for a normal distribution, the mean, median, and mode are all located at the center of the distribution and have the same value. They are all equal and represent the central tendency of the data in a symmetrical manner."
   ]
  },
  {
   "cell_type": "markdown",
   "id": "dad2c0c3",
   "metadata": {},
   "source": [
    "### Ques.13 - How is covariance different from correlation?"
   ]
  },
  {
   "cell_type": "markdown",
   "id": "7fa78374",
   "metadata": {},
   "source": [
    "Covariance and correlation are both measures of the relationship between two variables, but they differ in several ways:\n",
    "\n",
    "- Covariance measures the linear relationship between two variables.\n",
    "- Correlation is a standardized measure of the strength and direction of the linear relationship between two variables.\n",
    "- Covariance is not standardized and is scale-dependent.\n",
    "- Correlation is standardized and ranges from -1 to +1.\n",
    "- Correlation is more widely used for comparing relationships between variables."
   ]
  },
  {
   "cell_type": "markdown",
   "id": "824ddedd",
   "metadata": {},
   "source": [
    "### Ques.14 - How do outliers affect measures of central tendency and dispersion? Provide an example."
   ]
  },
  {
   "cell_type": "markdown",
   "id": "3a610520",
   "metadata": {},
   "source": [
    "Outliers can significantly impact measures of central tendency and dispersion. Here's a brief explanation:\n",
    "\n",
    "**Measures of Central Tendency:**\n",
    "- Outliers can greatly influence the mean (average) of a dataset, pulling it towards their extreme values.\n",
    "- The median is less affected by outliers since it is not influenced by specific values but rather the position of values.\n",
    "- The mode is generally not affected by outliers since it represents the most common value(s) in the dataset.\n",
    "\n",
    "Example: Consider a dataset of exam scores: [85, 90, 92, 78, 20, 87]. The outlier value of 20 significantly lowers the mean, pulling it away from the typical values. However, the median and mode remain unaffected.\n",
    "\n",
    "**Measures of Dispersion:**\n",
    "- Outliers can increase the range of a dataset, as they represent extreme values.\n",
    "- The presence of outliers can greatly influence the variance and standard deviation, as these measures consider the distance of each data point from the mean.\n",
    "- If outliers are present, measures of dispersion may be larger, indicating a greater spread of values.\n",
    "\n",
    "Example: In a dataset of monthly salaries: [$2,500, $3,000, $3,500, $4,000, $100,000], the outlier salary of $100,000 increases the range, variance, and standard deviation, indicating a larger dispersion in salaries.\n",
    "\n",
    "In summary, outliers can distort measures of central tendency, particularly the mean, while measures of dispersion can be greatly influenced, leading to larger values. It is important to consider and assess outliers in data analysis to ensure accurate and meaningful interpretations.\n",
    "\n",
    "\n",
    "\n",
    "\n"
   ]
  }
 ],
 "metadata": {
  "kernelspec": {
   "display_name": "Python 3 (ipykernel)",
   "language": "python",
   "name": "python3"
  },
  "language_info": {
   "codemirror_mode": {
    "name": "ipython",
    "version": 3
   },
   "file_extension": ".py",
   "mimetype": "text/x-python",
   "name": "python",
   "nbconvert_exporter": "python",
   "pygments_lexer": "ipython3",
   "version": "3.9.7"
  }
 },
 "nbformat": 4,
 "nbformat_minor": 5
}
